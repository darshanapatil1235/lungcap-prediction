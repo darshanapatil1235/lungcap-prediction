{
 "cells": [
  {
   "cell_type": "code",
   "execution_count": 1,
   "id": "b0a24ed0",
   "metadata": {},
   "outputs": [],
   "source": [
    "import pandas as pd\n"
   ]
  },
  {
   "cell_type": "code",
   "execution_count": 2,
   "id": "f29c768d",
   "metadata": {},
   "outputs": [
    {
     "data": {
      "text/html": [
       "<div>\n",
       "<style scoped>\n",
       "    .dataframe tbody tr th:only-of-type {\n",
       "        vertical-align: middle;\n",
       "    }\n",
       "\n",
       "    .dataframe tbody tr th {\n",
       "        vertical-align: top;\n",
       "    }\n",
       "\n",
       "    .dataframe thead th {\n",
       "        text-align: right;\n",
       "    }\n",
       "</style>\n",
       "<table border=\"1\" class=\"dataframe\">\n",
       "  <thead>\n",
       "    <tr style=\"text-align: right;\">\n",
       "      <th></th>\n",
       "      <th>LungCap</th>\n",
       "      <th>Age</th>\n",
       "      <th>Height</th>\n",
       "      <th>Smoke</th>\n",
       "      <th>Gender</th>\n",
       "      <th>Caesarean</th>\n",
       "    </tr>\n",
       "  </thead>\n",
       "  <tbody>\n",
       "    <tr>\n",
       "      <th>0</th>\n",
       "      <td>6.475</td>\n",
       "      <td>6</td>\n",
       "      <td>62.1</td>\n",
       "      <td>no</td>\n",
       "      <td>male</td>\n",
       "      <td>no</td>\n",
       "    </tr>\n",
       "    <tr>\n",
       "      <th>1</th>\n",
       "      <td>10.125</td>\n",
       "      <td>18</td>\n",
       "      <td>74.7</td>\n",
       "      <td>yes</td>\n",
       "      <td>female</td>\n",
       "      <td>no</td>\n",
       "    </tr>\n",
       "    <tr>\n",
       "      <th>2</th>\n",
       "      <td>9.550</td>\n",
       "      <td>16</td>\n",
       "      <td>69.7</td>\n",
       "      <td>no</td>\n",
       "      <td>female</td>\n",
       "      <td>yes</td>\n",
       "    </tr>\n",
       "    <tr>\n",
       "      <th>3</th>\n",
       "      <td>11.125</td>\n",
       "      <td>14</td>\n",
       "      <td>71.0</td>\n",
       "      <td>no</td>\n",
       "      <td>male</td>\n",
       "      <td>no</td>\n",
       "    </tr>\n",
       "    <tr>\n",
       "      <th>4</th>\n",
       "      <td>4.800</td>\n",
       "      <td>5</td>\n",
       "      <td>56.9</td>\n",
       "      <td>no</td>\n",
       "      <td>male</td>\n",
       "      <td>no</td>\n",
       "    </tr>\n",
       "  </tbody>\n",
       "</table>\n",
       "</div>"
      ],
      "text/plain": [
       "   LungCap  Age  Height Smoke  Gender Caesarean\n",
       "0    6.475    6    62.1    no    male        no\n",
       "1   10.125   18    74.7   yes  female        no\n",
       "2    9.550   16    69.7    no  female       yes\n",
       "3   11.125   14    71.0    no    male        no\n",
       "4    4.800    5    56.9    no    male        no"
      ]
     },
     "execution_count": 2,
     "metadata": {},
     "output_type": "execute_result"
    }
   ],
   "source": [
    "lc=pd.read_csv(r\"C:\\Users\\Legion\\Documents\\python pandas\\LungCapData.csv\")\n",
    "lc.head()"
   ]
  },
  {
   "cell_type": "code",
   "execution_count": 3,
   "id": "1602048f",
   "metadata": {},
   "outputs": [],
   "source": [
    "#steps involved in model building\n",
    "#1 requirment gathering (to build the predective model which can predict lungcap)\n",
    "#2 data gathring\n",
    "#3 data cleaning \n",
    "#4 data sorting\n",
    "#5 data modeling"
   ]
  },
  {
   "cell_type": "code",
   "execution_count": 4,
   "id": "61def7d9",
   "metadata": {},
   "outputs": [
    {
     "data": {
      "text/plain": [
       "LungCap      0\n",
       "Age          0\n",
       "Height       0\n",
       "Smoke        0\n",
       "Gender       0\n",
       "Caesarean    0\n",
       "dtype: int64"
      ]
     },
     "execution_count": 4,
     "metadata": {},
     "output_type": "execute_result"
    }
   ],
   "source": [
    "lc.isnull().sum()"
   ]
  },
  {
   "cell_type": "code",
   "execution_count": 29,
   "id": "4057c3a2",
   "metadata": {},
   "outputs": [],
   "source": [
    "lc.Smoke=lc.Smoke.replace({'no':0,'yes':1})\n",
    "lc.Gender=lc.Gender.replace({'male':0,'female':1})\n",
    "lc.Caesarean=lc.Caesarean.replace({'no':0,'yes':1})"
   ]
  },
  {
   "cell_type": "code",
   "execution_count": 30,
   "id": "21931d08",
   "metadata": {},
   "outputs": [
    {
     "data": {
      "text/html": [
       "<div>\n",
       "<style scoped>\n",
       "    .dataframe tbody tr th:only-of-type {\n",
       "        vertical-align: middle;\n",
       "    }\n",
       "\n",
       "    .dataframe tbody tr th {\n",
       "        vertical-align: top;\n",
       "    }\n",
       "\n",
       "    .dataframe thead th {\n",
       "        text-align: right;\n",
       "    }\n",
       "</style>\n",
       "<table border=\"1\" class=\"dataframe\">\n",
       "  <thead>\n",
       "    <tr style=\"text-align: right;\">\n",
       "      <th></th>\n",
       "      <th>LungCap</th>\n",
       "      <th>Age</th>\n",
       "      <th>Height</th>\n",
       "      <th>Smoke</th>\n",
       "      <th>Gender</th>\n",
       "      <th>Caesarean</th>\n",
       "    </tr>\n",
       "  </thead>\n",
       "  <tbody>\n",
       "    <tr>\n",
       "      <th>0</th>\n",
       "      <td>6.475</td>\n",
       "      <td>6</td>\n",
       "      <td>62.1</td>\n",
       "      <td>0</td>\n",
       "      <td>0</td>\n",
       "      <td>0</td>\n",
       "    </tr>\n",
       "    <tr>\n",
       "      <th>1</th>\n",
       "      <td>10.125</td>\n",
       "      <td>18</td>\n",
       "      <td>74.7</td>\n",
       "      <td>1</td>\n",
       "      <td>1</td>\n",
       "      <td>0</td>\n",
       "    </tr>\n",
       "    <tr>\n",
       "      <th>2</th>\n",
       "      <td>9.550</td>\n",
       "      <td>16</td>\n",
       "      <td>69.7</td>\n",
       "      <td>0</td>\n",
       "      <td>1</td>\n",
       "      <td>1</td>\n",
       "    </tr>\n",
       "    <tr>\n",
       "      <th>3</th>\n",
       "      <td>11.125</td>\n",
       "      <td>14</td>\n",
       "      <td>71.0</td>\n",
       "      <td>0</td>\n",
       "      <td>0</td>\n",
       "      <td>0</td>\n",
       "    </tr>\n",
       "    <tr>\n",
       "      <th>4</th>\n",
       "      <td>4.800</td>\n",
       "      <td>5</td>\n",
       "      <td>56.9</td>\n",
       "      <td>0</td>\n",
       "      <td>0</td>\n",
       "      <td>0</td>\n",
       "    </tr>\n",
       "  </tbody>\n",
       "</table>\n",
       "</div>"
      ],
      "text/plain": [
       "   LungCap  Age  Height  Smoke  Gender  Caesarean\n",
       "0    6.475    6    62.1      0       0          0\n",
       "1   10.125   18    74.7      1       1          0\n",
       "2    9.550   16    69.7      0       1          1\n",
       "3   11.125   14    71.0      0       0          0\n",
       "4    4.800    5    56.9      0       0          0"
      ]
     },
     "execution_count": 30,
     "metadata": {},
     "output_type": "execute_result"
    }
   ],
   "source": [
    "lc.head()"
   ]
  },
  {
   "cell_type": "code",
   "execution_count": 31,
   "id": "f720770f",
   "metadata": {},
   "outputs": [],
   "source": [
    "from sklearn.model_selection import train_test_split\n",
    "lc_train,lc_test=train_test_split(lc,test_size=.2)"
   ]
  },
  {
   "cell_type": "code",
   "execution_count": 32,
   "id": "b00c9e61",
   "metadata": {},
   "outputs": [],
   "source": [
    "lc_train_x=lc_train.iloc[:,1::]\n",
    "lc_train_y=lc_train.iloc[:,0]\n",
    "\n",
    "lc_test_x=lc_test.iloc[:,1::]\n",
    "lc_test_y=lc_test.iloc[:,0]"
   ]
  },
  {
   "cell_type": "code",
   "execution_count": 33,
   "id": "2138f92b",
   "metadata": {},
   "outputs": [
    {
     "data": {
      "text/html": [
       "<div>\n",
       "<style scoped>\n",
       "    .dataframe tbody tr th:only-of-type {\n",
       "        vertical-align: middle;\n",
       "    }\n",
       "\n",
       "    .dataframe tbody tr th {\n",
       "        vertical-align: top;\n",
       "    }\n",
       "\n",
       "    .dataframe thead th {\n",
       "        text-align: right;\n",
       "    }\n",
       "</style>\n",
       "<table border=\"1\" class=\"dataframe\">\n",
       "  <thead>\n",
       "    <tr style=\"text-align: right;\">\n",
       "      <th></th>\n",
       "      <th>Age</th>\n",
       "      <th>Height</th>\n",
       "      <th>Smoke</th>\n",
       "      <th>Gender</th>\n",
       "      <th>Caesarean</th>\n",
       "    </tr>\n",
       "  </thead>\n",
       "  <tbody>\n",
       "    <tr>\n",
       "      <th>292</th>\n",
       "      <td>3</td>\n",
       "      <td>52.9</td>\n",
       "      <td>0</td>\n",
       "      <td>0</td>\n",
       "      <td>0</td>\n",
       "    </tr>\n",
       "    <tr>\n",
       "      <th>100</th>\n",
       "      <td>13</td>\n",
       "      <td>66.2</td>\n",
       "      <td>1</td>\n",
       "      <td>0</td>\n",
       "      <td>0</td>\n",
       "    </tr>\n",
       "    <tr>\n",
       "      <th>120</th>\n",
       "      <td>16</td>\n",
       "      <td>67.9</td>\n",
       "      <td>0</td>\n",
       "      <td>0</td>\n",
       "      <td>0</td>\n",
       "    </tr>\n",
       "    <tr>\n",
       "      <th>85</th>\n",
       "      <td>12</td>\n",
       "      <td>63.3</td>\n",
       "      <td>0</td>\n",
       "      <td>1</td>\n",
       "      <td>1</td>\n",
       "    </tr>\n",
       "    <tr>\n",
       "      <th>185</th>\n",
       "      <td>10</td>\n",
       "      <td>64.3</td>\n",
       "      <td>0</td>\n",
       "      <td>0</td>\n",
       "      <td>1</td>\n",
       "    </tr>\n",
       "  </tbody>\n",
       "</table>\n",
       "</div>"
      ],
      "text/plain": [
       "     Age  Height  Smoke  Gender  Caesarean\n",
       "292    3    52.9      0       0          0\n",
       "100   13    66.2      1       0          0\n",
       "120   16    67.9      0       0          0\n",
       "85    12    63.3      0       1          1\n",
       "185   10    64.3      0       0          1"
      ]
     },
     "execution_count": 33,
     "metadata": {},
     "output_type": "execute_result"
    }
   ],
   "source": [
    "lc_train_x.head()"
   ]
  },
  {
   "cell_type": "code",
   "execution_count": 34,
   "id": "4bcd611f",
   "metadata": {},
   "outputs": [
    {
     "data": {
      "text/plain": [
       "603     7.675\n",
       "234     8.625\n",
       "369    11.650\n",
       "25      8.350\n",
       "486     2.375\n",
       "        ...  \n",
       "236     5.725\n",
       "713     9.325\n",
       "400     2.000\n",
       "572     6.900\n",
       "18      7.025\n",
       "Name: LungCap, Length: 145, dtype: float64"
      ]
     },
     "execution_count": 34,
     "metadata": {},
     "output_type": "execute_result"
    }
   ],
   "source": [
    "lc_test_y"
   ]
  },
  {
   "cell_type": "code",
   "execution_count": 35,
   "id": "7db805b1",
   "metadata": {},
   "outputs": [
    {
     "data": {
      "text/plain": [
       "<function sklearn.preprocessing._label.LabelEncoder.fit_transform(self, y)>"
      ]
     },
     "execution_count": 35,
     "metadata": {},
     "output_type": "execute_result"
    }
   ],
   "source": [
    "from sklearn.preprocessing import LabelEncoder #required import \n",
    "le= LabelEncoder\n",
    "le.fit_transform \n"
   ]
  },
  {
   "cell_type": "code",
   "execution_count": 36,
   "id": "b085dbc4",
   "metadata": {},
   "outputs": [],
   "source": [
    "from sklearn.linear_model import LinearRegression\n",
    "linreg= LinearRegression()"
   ]
  },
  {
   "cell_type": "code",
   "execution_count": 37,
   "id": "9ffea121",
   "metadata": {},
   "outputs": [
    {
     "data": {
      "text/html": [
       "<style>#sk-container-id-1 {color: black;}#sk-container-id-1 pre{padding: 0;}#sk-container-id-1 div.sk-toggleable {background-color: white;}#sk-container-id-1 label.sk-toggleable__label {cursor: pointer;display: block;width: 100%;margin-bottom: 0;padding: 0.3em;box-sizing: border-box;text-align: center;}#sk-container-id-1 label.sk-toggleable__label-arrow:before {content: \"▸\";float: left;margin-right: 0.25em;color: #696969;}#sk-container-id-1 label.sk-toggleable__label-arrow:hover:before {color: black;}#sk-container-id-1 div.sk-estimator:hover label.sk-toggleable__label-arrow:before {color: black;}#sk-container-id-1 div.sk-toggleable__content {max-height: 0;max-width: 0;overflow: hidden;text-align: left;background-color: #f0f8ff;}#sk-container-id-1 div.sk-toggleable__content pre {margin: 0.2em;color: black;border-radius: 0.25em;background-color: #f0f8ff;}#sk-container-id-1 input.sk-toggleable__control:checked~div.sk-toggleable__content {max-height: 200px;max-width: 100%;overflow: auto;}#sk-container-id-1 input.sk-toggleable__control:checked~label.sk-toggleable__label-arrow:before {content: \"▾\";}#sk-container-id-1 div.sk-estimator input.sk-toggleable__control:checked~label.sk-toggleable__label {background-color: #d4ebff;}#sk-container-id-1 div.sk-label input.sk-toggleable__control:checked~label.sk-toggleable__label {background-color: #d4ebff;}#sk-container-id-1 input.sk-hidden--visually {border: 0;clip: rect(1px 1px 1px 1px);clip: rect(1px, 1px, 1px, 1px);height: 1px;margin: -1px;overflow: hidden;padding: 0;position: absolute;width: 1px;}#sk-container-id-1 div.sk-estimator {font-family: monospace;background-color: #f0f8ff;border: 1px dotted black;border-radius: 0.25em;box-sizing: border-box;margin-bottom: 0.5em;}#sk-container-id-1 div.sk-estimator:hover {background-color: #d4ebff;}#sk-container-id-1 div.sk-parallel-item::after {content: \"\";width: 100%;border-bottom: 1px solid gray;flex-grow: 1;}#sk-container-id-1 div.sk-label:hover label.sk-toggleable__label {background-color: #d4ebff;}#sk-container-id-1 div.sk-serial::before {content: \"\";position: absolute;border-left: 1px solid gray;box-sizing: border-box;top: 0;bottom: 0;left: 50%;z-index: 0;}#sk-container-id-1 div.sk-serial {display: flex;flex-direction: column;align-items: center;background-color: white;padding-right: 0.2em;padding-left: 0.2em;position: relative;}#sk-container-id-1 div.sk-item {position: relative;z-index: 1;}#sk-container-id-1 div.sk-parallel {display: flex;align-items: stretch;justify-content: center;background-color: white;position: relative;}#sk-container-id-1 div.sk-item::before, #sk-container-id-1 div.sk-parallel-item::before {content: \"\";position: absolute;border-left: 1px solid gray;box-sizing: border-box;top: 0;bottom: 0;left: 50%;z-index: -1;}#sk-container-id-1 div.sk-parallel-item {display: flex;flex-direction: column;z-index: 1;position: relative;background-color: white;}#sk-container-id-1 div.sk-parallel-item:first-child::after {align-self: flex-end;width: 50%;}#sk-container-id-1 div.sk-parallel-item:last-child::after {align-self: flex-start;width: 50%;}#sk-container-id-1 div.sk-parallel-item:only-child::after {width: 0;}#sk-container-id-1 div.sk-dashed-wrapped {border: 1px dashed gray;margin: 0 0.4em 0.5em 0.4em;box-sizing: border-box;padding-bottom: 0.4em;background-color: white;}#sk-container-id-1 div.sk-label label {font-family: monospace;font-weight: bold;display: inline-block;line-height: 1.2em;}#sk-container-id-1 div.sk-label-container {text-align: center;}#sk-container-id-1 div.sk-container {/* jupyter's `normalize.less` sets `[hidden] { display: none; }` but bootstrap.min.css set `[hidden] { display: none !important; }` so we also need the `!important` here to be able to override the default hidden behavior on the sphinx rendered scikit-learn.org. See: https://github.com/scikit-learn/scikit-learn/issues/21755 */display: inline-block !important;position: relative;}#sk-container-id-1 div.sk-text-repr-fallback {display: none;}</style><div id=\"sk-container-id-1\" class=\"sk-top-container\"><div class=\"sk-text-repr-fallback\"><pre>LinearRegression()</pre><b>In a Jupyter environment, please rerun this cell to show the HTML representation or trust the notebook. <br />On GitHub, the HTML representation is unable to render, please try loading this page with nbviewer.org.</b></div><div class=\"sk-container\" hidden><div class=\"sk-item\"><div class=\"sk-estimator sk-toggleable\"><input class=\"sk-toggleable__control sk-hidden--visually\" id=\"sk-estimator-id-1\" type=\"checkbox\" checked><label for=\"sk-estimator-id-1\" class=\"sk-toggleable__label sk-toggleable__label-arrow\">LinearRegression</label><div class=\"sk-toggleable__content\"><pre>LinearRegression()</pre></div></div></div></div></div>"
      ],
      "text/plain": [
       "LinearRegression()"
      ]
     },
     "execution_count": 37,
     "metadata": {},
     "output_type": "execute_result"
    }
   ],
   "source": [
    "linreg.fit(lc_train_x,lc_train_y)"
   ]
  },
  {
   "cell_type": "code",
   "execution_count": 38,
   "id": "37f589ad",
   "metadata": {},
   "outputs": [
    {
     "data": {
      "text/plain": [
       "0.8530902788081687"
      ]
     },
     "execution_count": 38,
     "metadata": {},
     "output_type": "execute_result"
    }
   ],
   "source": [
    "linreg.score(lc_train_x,lc_train_y) #adjusted r square"
   ]
  },
  {
   "cell_type": "code",
   "execution_count": 39,
   "id": "e985b054",
   "metadata": {},
   "outputs": [
    {
     "data": {
      "text/plain": [
       "0.8518105774040586"
      ]
     },
     "execution_count": 39,
     "metadata": {},
     "output_type": "execute_result"
    }
   ],
   "source": [
    "Rsquare=linreg.score(lc_train_x,lc_train_y)\n",
    "N=lc_train_x.shape[0]\n",
    "K=lc_train_x.shape[1]\n",
    "\n",
    "Adju_Rsquare=1-(1-Rsquare)*(N-1)/(N-K-1)\n",
    "Adju_Rsquare"
   ]
  },
  {
   "cell_type": "code",
   "execution_count": 40,
   "id": "e09545bb",
   "metadata": {},
   "outputs": [
    {
     "data": {
      "text/plain": [
       "-10.701009374733543"
      ]
     },
     "execution_count": 40,
     "metadata": {},
     "output_type": "execute_result"
    }
   ],
   "source": [
    "linreg.intercept_"
   ]
  },
  {
   "cell_type": "code",
   "execution_count": 41,
   "id": "713a0c0f",
   "metadata": {},
   "outputs": [
    {
     "data": {
      "text/plain": [
       "array([ 0.17472129,  0.25762646, -0.63772391, -0.3376991 , -0.20217228])"
      ]
     },
     "execution_count": 41,
     "metadata": {},
     "output_type": "execute_result"
    }
   ],
   "source": [
    "linreg.coef_"
   ]
  },
  {
   "cell_type": "code",
   "execution_count": 42,
   "id": "4eb22368",
   "metadata": {},
   "outputs": [
    {
     "data": {
      "text/html": [
       "<div>\n",
       "<style scoped>\n",
       "    .dataframe tbody tr th:only-of-type {\n",
       "        vertical-align: middle;\n",
       "    }\n",
       "\n",
       "    .dataframe tbody tr th {\n",
       "        vertical-align: top;\n",
       "    }\n",
       "\n",
       "    .dataframe thead th {\n",
       "        text-align: right;\n",
       "    }\n",
       "</style>\n",
       "<table border=\"1\" class=\"dataframe\">\n",
       "  <thead>\n",
       "    <tr style=\"text-align: right;\">\n",
       "      <th></th>\n",
       "      <th>Age</th>\n",
       "      <th>Height</th>\n",
       "      <th>Smoke</th>\n",
       "      <th>Gender</th>\n",
       "      <th>Caesarean</th>\n",
       "    </tr>\n",
       "  </thead>\n",
       "  <tbody>\n",
       "    <tr>\n",
       "      <th>292</th>\n",
       "      <td>3</td>\n",
       "      <td>52.9</td>\n",
       "      <td>0</td>\n",
       "      <td>0</td>\n",
       "      <td>0</td>\n",
       "    </tr>\n",
       "    <tr>\n",
       "      <th>100</th>\n",
       "      <td>13</td>\n",
       "      <td>66.2</td>\n",
       "      <td>1</td>\n",
       "      <td>0</td>\n",
       "      <td>0</td>\n",
       "    </tr>\n",
       "  </tbody>\n",
       "</table>\n",
       "</div>"
      ],
      "text/plain": [
       "     Age  Height  Smoke  Gender  Caesarean\n",
       "292    3    52.9      0       0          0\n",
       "100   13    66.2      1       0          0"
      ]
     },
     "execution_count": 42,
     "metadata": {},
     "output_type": "execute_result"
    }
   ],
   "source": [
    "lc_train_x.head(2)"
   ]
  },
  {
   "cell_type": "code",
   "execution_count": 43,
   "id": "eccf800b",
   "metadata": {},
   "outputs": [],
   "source": [
    "pred_train=linreg.predict(lc_train_x)"
   ]
  },
  {
   "cell_type": "code",
   "execution_count": 44,
   "id": "ee37aa2b",
   "metadata": {},
   "outputs": [],
   "source": [
    "pred_test=linreg.predict(lc_test_x)"
   ]
  },
  {
   "cell_type": "code",
   "execution_count": 45,
   "id": "ce881b44",
   "metadata": {},
   "outputs": [],
   "source": [
    "#errors --diff between predict and actul\n",
    "#checking the assumption\n",
    "#assumptions only check on the train data"
   ]
  },
  {
   "cell_type": "code",
   "execution_count": 46,
   "id": "37ac16e5",
   "metadata": {},
   "outputs": [
    {
     "data": {
      "text/plain": [
       "292    5.475\n",
       "100    8.025\n",
       "120    8.550\n",
       "85     6.125\n",
       "185    7.200\n",
       "       ...  \n",
       "378    4.900\n",
       "161    4.900\n",
       "90     6.950\n",
       "200    9.550\n",
       "692    6.050\n",
       "Name: LungCap, Length: 580, dtype: float64"
      ]
     },
     "execution_count": 46,
     "metadata": {},
     "output_type": "execute_result"
    }
   ],
   "source": [
    "lc_train_y"
   ]
  },
  {
   "cell_type": "code",
   "execution_count": 47,
   "id": "541ab4a6",
   "metadata": {
    "scrolled": false
   },
   "outputs": [
    {
     "data": {
      "text/plain": [
       "array([ 3.45159434,  7.98751526,  9.58736802,  7.16352976,  7.40941275,\n",
       "        8.02209902,  4.76038107,  7.83504691, 10.83922822,  6.41641302,\n",
       "       10.7466871 ,  5.78526968,  9.84170078,  8.08984083,  9.23230821,\n",
       "        9.77404879,  8.31964496,  8.06800708, 10.74106986,  7.28132453,\n",
       "        8.0326983 ,  7.90671761, 11.39075325,  9.97664024,  8.8946091 ,\n",
       "        8.53393206,  8.59947652,  9.19201739,  6.21761743,  4.96757859,\n",
       "        8.2455609 ,  8.25396284, 11.38796855, 10.16588971,  8.41466495,\n",
       "        8.00364196, 11.04181968,  7.8699365 ,  8.39899259,  9.46138732,\n",
       "        5.12946005,  6.54129736, 12.05496482,  3.14295159,  7.97838831,\n",
       "        9.61947291,  7.99291648,  9.09509304,  5.73652909,  9.81717214,\n",
       "        8.34577895,  7.61281904,  5.67563853,  6.12296878,  7.69280186,\n",
       "        8.20243755,  7.1483664 ,  7.28228786,  7.07669569,  6.40750208,\n",
       "        2.75993179,  9.66136225,  7.37482899, 11.59516608, 11.69428777,\n",
       "        7.99240748,  8.47066329,  6.39182972, 11.13874403,  5.97451914,\n",
       "        8.83746657,  5.49626333,  9.09509304,  5.37978093, 10.71813975,\n",
       "        7.05093305,  8.03502184,  6.36657607,  6.01151626,  3.40006905,\n",
       "        4.36895933,  3.58433647,  7.11931005,  9.17238098,  7.31134421,\n",
       "        6.34546733,  8.6634703 , 11.2933199 ,  3.04830294,  7.54042332,\n",
       "        7.84066414,  8.42475523,  4.70885577,  5.52275099,  5.59931392,\n",
       "        3.19396788,  5.92692274,  3.5691731 ,  6.19185478,  6.43212054,\n",
       "        8.05356873,  6.12858602,  7.25652522, 10.244274  ,  8.04224443,\n",
       "       11.59685442,  9.84499448,  7.77790438,  6.69587324,  7.17485405,\n",
       "       11.04743691,  2.20658539, 10.40729965,  3.26285388,  6.55253183,\n",
       "        8.34810249,  7.4860655 ,  7.07948039,  7.33432215, 10.53780123,\n",
       "        6.34592166,  7.57180321, 13.26019196,  9.4238812 ,  8.16434407,\n",
       "        3.21973053,  5.73374439,  7.58633138, 10.76683251, 11.50833201,\n",
       "        5.39270375,  9.14442099, 10.97014898,  8.26849101,  9.61034596,\n",
       "        8.03553084,  7.89497414,  4.01043179, 10.82397504, 10.22581694,\n",
       "        5.62456757,  4.24512814, 11.89308336,  8.08485879, 10.148529  ,\n",
       "        8.45051788,  6.65667877, 12.40440739,  4.91495694,  8.84870105,\n",
       "        9.35664839,  3.97575821,  3.49188516,  9.81644713,  7.23076257,\n",
       "        9.57005514, 10.23705141,  6.28709079,  9.4238812 ,  4.5027546 ,\n",
       "        9.0889668 ,  8.54064565,  6.47634025, 10.9221334 ,  6.9019744 ,\n",
       "        6.47241136, 11.44300356,  4.50837184, 10.41460523,  5.16696617,\n",
       "        5.7538898 ,  3.094211  ,  8.02822526,  6.80403206,  8.83695757,\n",
       "        2.22111356,  5.02640947,  6.65836712,  6.20916766,  9.22339727,\n",
       "       10.14012706,  5.65645645,  7.15398363, 11.26194002,  7.27105339,\n",
       "        7.24250604,  8.0814389 ,  4.92897612, 10.26075436, 12.32213741,\n",
       "        5.9656082 ,  9.85622895,  8.56531194, 10.39775352, 12.9510402 ,\n",
       "        7.67595015,  6.48829973, 11.53596386,  4.36334209,  9.94804506,\n",
       "        7.2195281 ,  7.29964857,  8.98029898,  9.10207047,  7.52589515,\n",
       "        6.84483188,  4.22776743,  9.68552638,  3.18273341,  4.5542799 ,\n",
       "        9.79017548,  6.81856023,  8.93439092,  5.2274024 ,  6.27192742,\n",
       "       10.58202094,  7.11369281,  8.04393278, 11.55145537,  2.36445497,\n",
       "        9.48787498,  7.14785739,  5.22972593,  7.01064223, 10.52656675,\n",
       "        4.95473876,  3.94437832,  8.30206824, 10.73047058,  6.3553416 ,\n",
       "        6.55325684,  5.99137085,  7.47436986,  9.04260441, 10.68392733,\n",
       "       11.35097143,  5.40444722,  6.62813142,  9.93795478,  8.25565118,\n",
       "        8.14529502,  9.06933039,  9.90775424,  4.36781514,  4.10178674,\n",
       "        9.36163044,  7.37972121,  9.2838335 ,  9.85344425,  4.58397143,\n",
       "       10.16821324, 11.49993007, 10.37541077,  7.97787931,  3.43757517,\n",
       "       10.99307909,  5.81664956,  5.43743246,  6.44948124,  9.52182355,\n",
       "        5.73936162,  7.22958323, 10.17223195,  7.47436986,  9.70850432,\n",
       "        8.72901476,  3.42976059,  9.91337148,  6.08318696,  7.83335856,\n",
       "        6.91430524,  9.17909457, 11.12544986,  5.14960546, 11.04523957,\n",
       "        8.99765969, 10.98416815, 10.95109992, 10.33279641,  7.60596779,\n",
       "        9.50729538,  9.49838444, 12.99694826,  6.99328152,  9.15223557,\n",
       "        7.6755788 ,  7.03078764, 10.51596747,  6.98766428,  9.61107097,\n",
       "        5.76512427,  8.83134034,  8.93270258,  7.72747544,  9.93073219,\n",
       "        7.06326388,  6.68929267, 13.13137872,  6.06865879, 10.26843129,\n",
       "       10.73545263,  4.40810596,  5.1036974 ,  4.51398908,  7.01904416,\n",
       "        7.02348206,  9.12998263, 10.09983624,  2.12368021,  7.04480681,\n",
       "        8.34185006,  4.36781514,  4.80016289,  7.63734767,  9.50116914,\n",
       "        4.65733048,  3.4947177 , 12.39380811,  8.53393206,  5.7231451 ,\n",
       "        9.51122427, 10.38504672,  4.32190708, 10.56466023,  2.04639227,\n",
       "        6.18623755, 10.90688021,  9.10911221,  9.32412432,  3.92423291,\n",
       "       10.60947193,  7.60880033,  7.84112531,  4.22447373,  8.05567625,\n",
       "        9.87308066,  9.27615657,  6.16229627,  9.64451055, 10.40971301,\n",
       "        5.46437445, 12.32711946,  7.56335344,  9.68784991,  9.62436514,\n",
       "        8.25616018,  8.20463489,  9.67027319,  6.38524915, 10.11436441,\n",
       "       11.60298066,  8.0842236 ,  7.98400555,  8.63761783, 10.62961734,\n",
       "        5.43020987,  7.2884141 ,  8.77703034,  8.68850793,  8.10436901,\n",
       "       10.84973768,  9.25359781,  3.99143057, 11.70996014, 10.89847827,\n",
       "        6.08267796,  6.498174  ,  8.53735195,  3.4263407 , 11.0099308 ,\n",
       "        9.8819916 ,  9.13559987,  8.6280717 ,  3.94881622,  4.20762202,\n",
       "        3.15418606, 11.51956648,  6.86446829,  7.70952738,  8.07020442,\n",
       "        7.76739492, 11.56547454, 10.88162656,  5.2957794 ,  3.35298165,\n",
       "        2.57680856,  4.51115654,  7.97838831,  9.35782773,  9.9065749 ,\n",
       "        4.80460078, 11.60690955, 12.28682863,  2.43283197,  3.58653381,\n",
       "        6.80454106,  6.52676918,  4.27038179,  3.89006833, 10.06845636,\n",
       "        9.69603584,  6.72505577, 10.25513713, 12.19830622, 11.6830533 ,\n",
       "        8.32221365,  9.79178084, 11.20479749,  7.25652522,  6.27096409,\n",
       "        7.68156739,  7.03357234,  6.80234371, 10.17990888, 13.51781842,\n",
       "        9.04305874,  8.60391441,  9.02620704, 11.11298138, 10.49911576,\n",
       "        7.89328579, 10.81105222,  6.87008552,  8.0620185 ,  9.81923183,\n",
       "        7.28672575,  8.28141383,  9.57398403, 10.75792157,  5.81103233,\n",
       "        8.76528687,  7.19047175,  9.10413016,  8.926205  ,  5.0131153 ,\n",
       "        6.66512854,  7.20550892,  3.18885965,  8.72550505,  3.37481541,\n",
       "        4.65733048,  5.29409106, 12.14070253, 10.78419322,  7.09464376,\n",
       "        4.50837184,  7.72354655, 12.42738534,  9.90264601,  9.9541713 ,\n",
       "       12.3528821 ,  4.83154277,  7.87533773, 10.91925887,  8.48240676,\n",
       "        5.1552227 ,  9.27543156,  7.98802426,  7.71463561, 11.74019583,\n",
       "        4.66856495, 10.10325613, 11.61772484,  5.65083921,  8.02539273,\n",
       "        6.75630947,  7.27717963,  9.85112072, 11.76317377,  9.7438131 ,\n",
       "        7.86410325,  7.31696145, 10.75843057,  4.97209947, 11.23339267,\n",
       "        9.20325186,  9.1819271 ,  7.98473056, 12.09918453,  5.45597251,\n",
       "       12.31652017,  3.19396788, 11.9703713 ,  5.72812715, 10.10823818,\n",
       "        4.960865  ,  7.90950231,  9.52414708, 10.37051854,  4.27481968,\n",
       "        7.03078764,  6.3520479 ,  5.85694038,  9.00720582,  8.08253525,\n",
       "        8.227565  ,  2.93963512,  3.78701774,  8.84870105,  9.99751067,\n",
       "        8.78543228,  7.53480609,  7.96664484,  9.22783516,  7.06326388,\n",
       "        6.57267724, 10.76683251,  7.72541575,  8.19901765, 10.20850406,\n",
       "        9.11194474,  7.80928426,  8.28264784,  6.22433102,  9.59581779,\n",
       "        7.73030798,  5.27841869, 10.00518759,  1.15593413, 10.01765608,\n",
       "       10.08247553,  7.39986662,  8.23879947,  8.13858142,  8.0842236 ,\n",
       "        7.89497414,  8.30206824, 10.20192349, 10.55064106,  9.92789965,\n",
       "       10.58649398,  6.37219331, 11.30784808,  3.9556128 ,  9.45247638,\n",
       "        4.36832414,  7.95211666,  8.59947652,  3.48910046,  6.54408206,\n",
       "       11.2933199 ,  7.56618597,  3.7136587 ,  6.27877867,  7.34834133,\n",
       "        3.34905276,  5.99415555,  9.11545446,  7.92403048,  8.52895001,\n",
       "        6.00589902,  5.93253998,  8.14136613, 10.1531829 ,  5.05829835,\n",
       "        6.79394177, 11.15961445,  8.17887224,  7.20499992,  9.00889416,\n",
       "        4.20483732,  4.91774164,  7.10638723,  6.21432373,  2.53866725,\n",
       "        7.17129651,  8.90301104, 10.10545348,  6.34592166,  9.3527195 ,\n",
       "        5.10931464, 11.10174691,  2.79629372,  8.90415523,  5.83190275,\n",
       "        5.73323539,  5.34168746,  7.13164088,  9.24354268,  6.27805366])"
      ]
     },
     "execution_count": 47,
     "metadata": {},
     "output_type": "execute_result"
    }
   ],
   "source": [
    "pred_train"
   ]
  },
  {
   "cell_type": "code",
   "execution_count": 48,
   "id": "b55b86f7",
   "metadata": {},
   "outputs": [],
   "source": [
    "err_train=lc_train_y-pred_train"
   ]
  },
  {
   "cell_type": "code",
   "execution_count": 49,
   "id": "79ae26c2",
   "metadata": {},
   "outputs": [
    {
     "data": {
      "text/plain": [
       "292    2.023406\n",
       "100    0.037485\n",
       "120   -1.037368\n",
       "85    -1.038530\n",
       "185   -0.209413\n",
       "         ...   \n",
       "378   -0.833235\n",
       "161   -0.441687\n",
       "90    -0.181641\n",
       "200    0.306457\n",
       "692   -0.228054\n",
       "Name: LungCap, Length: 580, dtype: float64"
      ]
     },
     "execution_count": 49,
     "metadata": {},
     "output_type": "execute_result"
    }
   ],
   "source": [
    "err_train"
   ]
  },
  {
   "cell_type": "code",
   "execution_count": 50,
   "id": "4b195936",
   "metadata": {},
   "outputs": [
    {
     "data": {
      "text/plain": [
       "3.381203363272201e-15"
      ]
     },
     "execution_count": 50,
     "metadata": {},
     "output_type": "execute_result"
    }
   ],
   "source": [
    "err_train.mean()#---mean of the error term should have be 0"
   ]
  },
  {
   "cell_type": "code",
   "execution_count": 51,
   "id": "1033f061",
   "metadata": {},
   "outputs": [],
   "source": [
    "import matplotlib.pyplot as plt\n",
    "import seaborn as sns"
   ]
  },
  {
   "cell_type": "code",
   "execution_count": 52,
   "id": "92168091",
   "metadata": {},
   "outputs": [
    {
     "data": {
      "text/plain": [
       "(array([ 4.,  7., 10., 18., 27., 46., 42., 57., 48., 66., 65., 59., 39.,\n",
       "        31., 27., 17., 10.,  3.,  1.,  3.]),\n",
       " array([-2.61678084, -2.33645528, -2.05612973, -1.77580417, -1.49547861,\n",
       "        -1.21515305, -0.93482749, -0.65450194, -0.37417638, -0.09385082,\n",
       "         0.18647474,  0.4668003 ,  0.74712586,  1.02745141,  1.30777697,\n",
       "         1.58810253,  1.86842809,  2.14875365,  2.4290792 ,  2.70940476,\n",
       "         2.98973032]),\n",
       " <BarContainer object of 20 artists>)"
      ]
     },
     "execution_count": 52,
     "metadata": {},
     "output_type": "execute_result"
    },
    {
     "data": {
      "image/png": "[encoded data removed]",
      "text/plain": [
       "<Figure size 640x480 with 1 Axes>"
      ]
     },
     "metadata": {},
     "output_type": "display_data"
    }
   ],
   "source": [
    "plt.hist(err_train,edgecolor='red',bins=20)"
   ]
  },
  {
   "cell_type": "code",
   "execution_count": 53,
   "id": "dcca1b08",
   "metadata": {},
   "outputs": [
    {
     "data": {
      "text/plain": [
       "0.01408107850410953"
      ]
     },
     "execution_count": 53,
     "metadata": {},
     "output_type": "execute_result"
    }
   ],
   "source": [
    "err_train.skew()"
   ]
  },
  {
   "cell_type": "code",
   "execution_count": 54,
   "id": "0689b963",
   "metadata": {},
   "outputs": [
    {
     "data": {
      "text/plain": [
       "-0.26445195984520664"
      ]
     },
     "execution_count": 54,
     "metadata": {},
     "output_type": "execute_result"
    }
   ],
   "source": [
    "err_train.kurtosis()"
   ]
  },
  {
   "cell_type": "code",
   "execution_count": 55,
   "id": "0217425d",
   "metadata": {},
   "outputs": [
    {
     "data": {
      "text/plain": [
       "[<matplotlib.lines.Line2D at 0x159c565d5d0>]"
      ]
     },
     "execution_count": 55,
     "metadata": {},
     "output_type": "execute_result"
    },
    {
     "data": {
      "image/png": "[encoded data removed]",
      "text/plain": [
       "<Figure size 640x480 with 1 Axes>"
      ]
     },
     "metadata": {},
     "output_type": "display_data"
    }
   ],
   "source": [
    "plt.plot(err_train,\"*\")# to see if errors  are random"
   ]
  },
  {
   "cell_type": "code",
   "execution_count": 56,
   "id": "4e78c4dd",
   "metadata": {},
   "outputs": [],
   "source": [
    "pred_actual=pd.DataFrame()\n",
    "pred_actual['Actual']=lc_train_y\n",
    "pred_actual['pred']=pred_train"
   ]
  },
  {
   "cell_type": "code",
   "execution_count": 57,
   "id": "04d17f25",
   "metadata": {},
   "outputs": [
    {
     "data": {
      "text/plain": [
       "<Axes: xlabel='Actual', ylabel='pred'>"
      ]
     },
     "execution_count": 57,
     "metadata": {},
     "output_type": "execute_result"
    },
    {
     "data": {
      "image/png": "[encoded data removed]",
      "text/plain": [
       "<Figure size 640x480 with 1 Axes>"
      ]
     },
     "metadata": {},
     "output_type": "display_data"
    }
   ],
   "source": [
    "sns.regplot(x='Actual',y='pred',data=pred_actual)"
   ]
  },
  {
   "cell_type": "code",
   "execution_count": 58,
   "id": "45e8dac1",
   "metadata": {},
   "outputs": [],
   "source": [
    "#mse,rmse,mape on test data or if u  want "
   ]
  },
  {
   "cell_type": "code",
   "execution_count": 59,
   "id": "d0d209af",
   "metadata": {},
   "outputs": [
    {
     "data": {
      "text/plain": [
       "603   -0.838787\n",
       "234   -0.376589\n",
       "369    0.322007\n",
       "25     1.364024\n",
       "486   -0.402292\n",
       "         ...   \n",
       "236    0.548488\n",
       "713    0.705378\n",
       "400   -0.624405\n",
       "572    0.754053\n",
       "18     1.012759\n",
       "Name: LungCap, Length: 145, dtype: float64"
      ]
     },
     "execution_count": 59,
     "metadata": {},
     "output_type": "execute_result"
    }
   ],
   "source": [
    "err_test=lc_test_y-pred_test\n",
    "err_test"
   ]
  },
  {
   "cell_type": "code",
   "execution_count": 60,
   "id": "f4c047b5",
   "metadata": {},
   "outputs": [],
   "source": [
    "import  numpy as np"
   ]
  },
  {
   "cell_type": "code",
   "execution_count": 61,
   "id": "cb39de41",
   "metadata": {},
   "outputs": [
    {
     "data": {
      "text/plain": [
       "1.1130949635202412"
      ]
     },
     "execution_count": 61,
     "metadata": {},
     "output_type": "execute_result"
    }
   ],
   "source": [
    "mse=np.mean(np.square(err_test))\n",
    "mse"
   ]
  },
  {
   "cell_type": "code",
   "execution_count": 62,
   "id": "f006e903",
   "metadata": {},
   "outputs": [
    {
     "data": {
      "text/plain": [
       "1.0550331575454115"
      ]
     },
     "execution_count": 62,
     "metadata": {},
     "output_type": "execute_result"
    }
   ],
   "source": [
    "np.sqrt(mse)#rmse"
   ]
  },
  {
   "cell_type": "code",
   "execution_count": 63,
   "id": "0c25d685",
   "metadata": {},
   "outputs": [
    {
     "data": {
      "text/plain": [
       "13.332002611591934"
      ]
     },
     "execution_count": 63,
     "metadata": {},
     "output_type": "execute_result"
    }
   ],
   "source": [
    "MAPE=np.mean(np.abs(err_test*100/lc_test_y))\n",
    "MAPE"
   ]
  },
  {
   "cell_type": "code",
   "execution_count": 64,
   "id": "10f8e63b",
   "metadata": {},
   "outputs": [
    {
     "data": {
      "text/plain": [
       "86.66799738840807"
      ]
     },
     "execution_count": 64,
     "metadata": {},
     "output_type": "execute_result"
    }
   ],
   "source": [
    "ACC=100-MAPE\n",
    "ACC"
   ]
  },
  {
   "cell_type": "markdown",
   "id": "2733fa3d",
   "metadata": {},
   "source": []
  },
  {
   "cell_type": "code",
   "execution_count": null,
   "id": "eb789ca9",
   "metadata": {},
   "outputs": [],
   "source": []
  },
  {
   "cell_type": "code",
   "execution_count": 41,
   "id": "f2e67eb3",
   "metadata": {},
   "outputs": [],
   "source": [
    "#property price\n",
    "# car price"
   ]
  },
  {
   "cell_type": "code",
   "execution_count": null,
   "id": "9e564991",
   "metadata": {},
   "outputs": [],
   "source": []
  },
  {
   "cell_type": "code",
   "execution_count": 289,
   "id": "bc99e7a9",
   "metadata": {},
   "outputs": [],
   "source": [
    "import pandas as pd "
   ]
  },
  {
   "cell_type": "code",
   "execution_count": 290,
   "id": "dd6f7c1a",
   "metadata": {},
   "outputs": [
    {
     "data": {
      "text/html": [
       "<div>\n",
       "<style scoped>\n",
       "    .dataframe tbody tr th:only-of-type {\n",
       "        vertical-align: middle;\n",
       "    }\n",
       "\n",
       "    .dataframe tbody tr th {\n",
       "        vertical-align: top;\n",
       "    }\n",
       "\n",
       "    .dataframe thead th {\n",
       "        text-align: right;\n",
       "    }\n",
       "</style>\n",
       "<table border=\"1\" class=\"dataframe\">\n",
       "  <thead>\n",
       "    <tr style=\"text-align: right;\">\n",
       "      <th></th>\n",
       "      <th>Id</th>\n",
       "      <th>Building_Class</th>\n",
       "      <th>Zoning_Class</th>\n",
       "      <th>Lot_Extent</th>\n",
       "      <th>Lot_Size</th>\n",
       "      <th>Road_Type</th>\n",
       "      <th>Lane_Type</th>\n",
       "      <th>Property_Shape</th>\n",
       "      <th>Land_Outline</th>\n",
       "      <th>Utility_Type</th>\n",
       "      <th>...</th>\n",
       "      <th>Pool_Area</th>\n",
       "      <th>Pool_Quality</th>\n",
       "      <th>Fence_Quality</th>\n",
       "      <th>Miscellaneous_Feature</th>\n",
       "      <th>Miscellaneous_Value</th>\n",
       "      <th>Month_Sold</th>\n",
       "      <th>Year_Sold</th>\n",
       "      <th>Sale_Type</th>\n",
       "      <th>Sale_Condition</th>\n",
       "      <th>Sale_Price</th>\n",
       "    </tr>\n",
       "  </thead>\n",
       "  <tbody>\n",
       "    <tr>\n",
       "      <th>0</th>\n",
       "      <td>1</td>\n",
       "      <td>60</td>\n",
       "      <td>RLD</td>\n",
       "      <td>65.0</td>\n",
       "      <td>8450</td>\n",
       "      <td>Paved</td>\n",
       "      <td>NaN</td>\n",
       "      <td>Reg</td>\n",
       "      <td>Lvl</td>\n",
       "      <td>AllPub</td>\n",
       "      <td>...</td>\n",
       "      <td>0</td>\n",
       "      <td>NaN</td>\n",
       "      <td>NaN</td>\n",
       "      <td>NaN</td>\n",
       "      <td>0</td>\n",
       "      <td>2</td>\n",
       "      <td>2008</td>\n",
       "      <td>WD</td>\n",
       "      <td>Normal</td>\n",
       "      <td>208500</td>\n",
       "    </tr>\n",
       "    <tr>\n",
       "      <th>1</th>\n",
       "      <td>2</td>\n",
       "      <td>20</td>\n",
       "      <td>RLD</td>\n",
       "      <td>80.0</td>\n",
       "      <td>9600</td>\n",
       "      <td>Paved</td>\n",
       "      <td>NaN</td>\n",
       "      <td>Reg</td>\n",
       "      <td>Lvl</td>\n",
       "      <td>AllPub</td>\n",
       "      <td>...</td>\n",
       "      <td>0</td>\n",
       "      <td>NaN</td>\n",
       "      <td>NaN</td>\n",
       "      <td>NaN</td>\n",
       "      <td>0</td>\n",
       "      <td>5</td>\n",
       "      <td>2007</td>\n",
       "      <td>WD</td>\n",
       "      <td>Normal</td>\n",
       "      <td>181500</td>\n",
       "    </tr>\n",
       "    <tr>\n",
       "      <th>2</th>\n",
       "      <td>3</td>\n",
       "      <td>60</td>\n",
       "      <td>RLD</td>\n",
       "      <td>68.0</td>\n",
       "      <td>11250</td>\n",
       "      <td>Paved</td>\n",
       "      <td>NaN</td>\n",
       "      <td>IR1</td>\n",
       "      <td>Lvl</td>\n",
       "      <td>AllPub</td>\n",
       "      <td>...</td>\n",
       "      <td>0</td>\n",
       "      <td>NaN</td>\n",
       "      <td>NaN</td>\n",
       "      <td>NaN</td>\n",
       "      <td>0</td>\n",
       "      <td>9</td>\n",
       "      <td>2008</td>\n",
       "      <td>WD</td>\n",
       "      <td>Normal</td>\n",
       "      <td>223500</td>\n",
       "    </tr>\n",
       "    <tr>\n",
       "      <th>3</th>\n",
       "      <td>4</td>\n",
       "      <td>70</td>\n",
       "      <td>RLD</td>\n",
       "      <td>60.0</td>\n",
       "      <td>9550</td>\n",
       "      <td>Paved</td>\n",
       "      <td>NaN</td>\n",
       "      <td>IR1</td>\n",
       "      <td>Lvl</td>\n",
       "      <td>AllPub</td>\n",
       "      <td>...</td>\n",
       "      <td>0</td>\n",
       "      <td>NaN</td>\n",
       "      <td>NaN</td>\n",
       "      <td>NaN</td>\n",
       "      <td>0</td>\n",
       "      <td>2</td>\n",
       "      <td>2006</td>\n",
       "      <td>WD</td>\n",
       "      <td>Abnorml</td>\n",
       "      <td>140000</td>\n",
       "    </tr>\n",
       "    <tr>\n",
       "      <th>4</th>\n",
       "      <td>5</td>\n",
       "      <td>60</td>\n",
       "      <td>RLD</td>\n",
       "      <td>84.0</td>\n",
       "      <td>14260</td>\n",
       "      <td>Paved</td>\n",
       "      <td>NaN</td>\n",
       "      <td>IR1</td>\n",
       "      <td>Lvl</td>\n",
       "      <td>AllPub</td>\n",
       "      <td>...</td>\n",
       "      <td>0</td>\n",
       "      <td>NaN</td>\n",
       "      <td>NaN</td>\n",
       "      <td>NaN</td>\n",
       "      <td>0</td>\n",
       "      <td>12</td>\n",
       "      <td>2008</td>\n",
       "      <td>WD</td>\n",
       "      <td>Normal</td>\n",
       "      <td>250000</td>\n",
       "    </tr>\n",
       "  </tbody>\n",
       "</table>\n",
       "<p>5 rows × 81 columns</p>\n",
       "</div>"
      ],
      "text/plain": [
       "   Id  Building_Class Zoning_Class  Lot_Extent  Lot_Size Road_Type Lane_Type  \\\n",
       "0   1              60          RLD        65.0      8450     Paved       NaN   \n",
       "1   2              20          RLD        80.0      9600     Paved       NaN   \n",
       "2   3              60          RLD        68.0     11250     Paved       NaN   \n",
       "3   4              70          RLD        60.0      9550     Paved       NaN   \n",
       "4   5              60          RLD        84.0     14260     Paved       NaN   \n",
       "\n",
       "  Property_Shape Land_Outline Utility_Type  ... Pool_Area Pool_Quality  \\\n",
       "0            Reg          Lvl       AllPub  ...         0          NaN   \n",
       "1            Reg          Lvl       AllPub  ...         0          NaN   \n",
       "2            IR1          Lvl       AllPub  ...         0          NaN   \n",
       "3            IR1          Lvl       AllPub  ...         0          NaN   \n",
       "4            IR1          Lvl       AllPub  ...         0          NaN   \n",
       "\n",
       "  Fence_Quality Miscellaneous_Feature Miscellaneous_Value Month_Sold  \\\n",
       "0           NaN                   NaN                   0          2   \n",
       "1           NaN                   NaN                   0          5   \n",
       "2           NaN                   NaN                   0          9   \n",
       "3           NaN                   NaN                   0          2   \n",
       "4           NaN                   NaN                   0         12   \n",
       "\n",
       "  Year_Sold  Sale_Type  Sale_Condition  Sale_Price  \n",
       "0      2008         WD          Normal      208500  \n",
       "1      2007         WD          Normal      181500  \n",
       "2      2008         WD          Normal      223500  \n",
       "3      2006         WD         Abnorml      140000  \n",
       "4      2008         WD          Normal      250000  \n",
       "\n",
       "[5 rows x 81 columns]"
      ]
     },
     "execution_count": 290,
     "metadata": {},
     "output_type": "execute_result"
    }
   ],
   "source": [
    "pp=pd.read_csv(r\"C:\\Users\\Legion\\Documents\\python pandas\\Property_Price_Train.csv\")\n",
    "pp.head()"
   ]
  },
  {
   "cell_type": "code",
   "execution_count": 291,
   "id": "c4119030",
   "metadata": {
    "scrolled": true
   },
   "outputs": [
    {
     "data": {
      "text/plain": [
       "Id                  0\n",
       "Building_Class      0\n",
       "Zoning_Class        0\n",
       "Lot_Extent        259\n",
       "Lot_Size            0\n",
       "                 ... \n",
       "Month_Sold          0\n",
       "Year_Sold           0\n",
       "Sale_Type           0\n",
       "Sale_Condition      0\n",
       "Sale_Price          0\n",
       "Length: 81, dtype: int64"
      ]
     },
     "execution_count": 291,
     "metadata": {},
     "output_type": "execute_result"
    }
   ],
   "source": [
    "pp.isnull().sum()"
   ]
  },
  {
   "cell_type": "code",
   "execution_count": 292,
   "id": "1fb42f9d",
   "metadata": {},
   "outputs": [
    {
     "data": {
      "text/plain": [
       "Lot_Extent                259\n",
       "Lane_Type                1368\n",
       "Brick_Veneer_Type           8\n",
       "Brick_Veneer_Area           8\n",
       "Basement_Height            37\n",
       "Basement_Condition         37\n",
       "Exposure_Level             38\n",
       "BsmtFinType1               37\n",
       "BsmtFinType2               38\n",
       "Electrical_System           1\n",
       "Fireplace_Quality         689\n",
       "Garage                     81\n",
       "Garage_Built_Year          81\n",
       "Garage_Finish_Year         81\n",
       "Garage_Quality             81\n",
       "Garage_Condition           81\n",
       "Pool_Quality             1452\n",
       "Fence_Quality            1178\n",
       "Miscellaneous_Feature    1405\n",
       "dtype: int64"
      ]
     },
     "execution_count": 292,
     "metadata": {},
     "output_type": "execute_result"
    }
   ],
   "source": [
    "pp.isnull().sum()[pp.isnull().sum()>0]"
   ]
  },
  {
   "cell_type": "code",
   "execution_count": 293,
   "id": "e2117354",
   "metadata": {},
   "outputs": [],
   "source": [
    "pp.Lot_Extent.fillna(pp.Lot_Extent.mean(),inplace = True)\n",
    "\n",
    "pp.Brick_Veneer_Type.fillna('None', inplace = True)\n",
    "pp.Brick_Veneer_Area.fillna(0,inplace= True)\n",
    "pp.Basement_Height.fillna('TA',inplace = True)\n",
    "pp.Basement_Condition.fillna('TA',inplace = True)\n",
    "pp.Exposure_Level.fillna('No',inplace = True)\n",
    "pp.BsmtFinType1.fillna('No',inplace = True)\n",
    "pp.BsmtFinType2.fillna('Unf',inplace = True)\n",
    "pp.Electrical_System.fillna('SBrkr',inplace = True)\n",
    "\n",
    "pp.Garage.fillna('Attchd',inplace = True)\n",
    "pp.Garage_Built_Year.fillna(pp.Garage_Built_Year.mean(), inplace = True)\n",
    "pp.Garage_Finish_Year.fillna('Unf', inplace = True)\n",
    "pp.Garage_Quality.fillna('TA',inplace = True)\n",
    "pp.Garage_Condition.fillna('TA',inplace = True)\n",
    "\n"
   ]
  },
  {
   "cell_type": "code",
   "execution_count": 294,
   "id": "162b5a2e",
   "metadata": {},
   "outputs": [],
   "source": [
    "pp=pp.drop(['Fireplace_Quality','Pool_Quality','Fence_Quality','Miscellaneous_Feature','Lane_Type','Id'],axis=1)"
   ]
  },
  {
   "cell_type": "code",
   "execution_count": 295,
   "id": "1947e7fa",
   "metadata": {},
   "outputs": [
    {
     "data": {
      "text/plain": [
       "(1459, 75)"
      ]
     },
     "execution_count": 295,
     "metadata": {},
     "output_type": "execute_result"
    }
   ],
   "source": [
    "pp.shape"
   ]
  },
  {
   "cell_type": "code",
   "execution_count": 296,
   "id": "b9c0cc1d",
   "metadata": {},
   "outputs": [],
   "source": [
    "from sklearn.preprocessing import LabelEncoder\n",
    "le = LabelEncoder()"
   ]
  },
  {
   "cell_type": "code",
   "execution_count": 297,
   "id": "8cb25472",
   "metadata": {},
   "outputs": [],
   "source": [
    "pp[pp.select_dtypes(include = 'object').columns] = pp[pp.select_dtypes(include = 'object').columns].apply(le.fit_transform)"
   ]
  },
  {
   "cell_type": "code",
   "execution_count": null,
   "id": "c8db69f9",
   "metadata": {},
   "outputs": [],
   "source": [
    "#below code is to be done after entire your data cleaning and be fefore sampling "
   ]
  },
  {
   "cell_type": "markdown",
   "id": "1b0d7f93",
   "metadata": {},
   "source": [
    "feature selection (importance)"
   ]
  },
  {
   "cell_type": "code",
   "execution_count": 445,
   "id": "013b4b4b",
   "metadata": {},
   "outputs": [
    {
     "data": {
      "text/plain": [
       "(1396, 21)"
      ]
     },
     "execution_count": 445,
     "metadata": {},
     "output_type": "execute_result"
    }
   ],
   "source": [
    "# df_x=pp.iloc[:,0:-1]\n",
    "# df_y=pp.iloc[:,-1]\n",
    "\n",
    "# corr_list=[]\n",
    "# for col in df_x.columns:\n",
    "#     corr_list.append(df_x[col].corr(df_y))\n",
    "    \n",
    "# feature_imp = pd.DataFrame()\n",
    "# feature_imp['column']=df_x.columns\n",
    "# feature_imp['corr']=corr_list\n",
    "# feature_imp\n",
    "\n",
    "# feature_imp1=feature_imp[(feature_imp['corr'] <-.3)|(feature_imp['corr']> .3)]\n",
    "# l1=list(feature_imp1.column)\n",
    "# l1.append('Sale_Price')\n",
    "\n",
    "# pp=pp.loc[:,l1]\n",
    "# pp.shape"
   ]
  },
  {
   "cell_type": "code",
   "execution_count": 446,
   "id": "787ceec3",
   "metadata": {},
   "outputs": [
    {
     "data": {
      "text/plain": [
       "(47, 2)"
      ]
     },
     "execution_count": 446,
     "metadata": {},
     "output_type": "execute_result"
    }
   ],
   "source": [
    "featureimp.shape"
   ]
  },
  {
   "cell_type": "code",
   "execution_count": null,
   "id": "dd4377d8",
   "metadata": {},
   "outputs": [],
   "source": [
    "#to build a mode; using least number of features but almost "
   ]
  },
  {
   "cell_type": "code",
   "execution_count": 436,
   "id": "8fdfb4a6",
   "metadata": {},
   "outputs": [],
   "source": [
    "featureimp[(featureimp['corr']<-.3)|(featureimp['corr']>.3)]\n",
    "l1=list(featureimp.columns)\n",
    "l1.append('Sale_Price')"
   ]
  },
  {
   "cell_type": "code",
   "execution_count": 437,
   "id": "9db88ffc",
   "metadata": {},
   "outputs": [
    {
     "data": {
      "text/plain": [
       "(74, 2)"
      ]
     },
     "execution_count": 437,
     "metadata": {},
     "output_type": "execute_result"
    }
   ],
   "source": [
    "featureimp.shape"
   ]
  },
  {
   "cell_type": "code",
   "execution_count": 298,
   "id": "ff367c84",
   "metadata": {},
   "outputs": [
    {
     "data": {
      "text/html": [
       "<div>\n",
       "<style scoped>\n",
       "    .dataframe tbody tr th:only-of-type {\n",
       "        vertical-align: middle;\n",
       "    }\n",
       "\n",
       "    .dataframe tbody tr th {\n",
       "        vertical-align: top;\n",
       "    }\n",
       "\n",
       "    .dataframe thead th {\n",
       "        text-align: right;\n",
       "    }\n",
       "</style>\n",
       "<table border=\"1\" class=\"dataframe\">\n",
       "  <thead>\n",
       "    <tr style=\"text-align: right;\">\n",
       "      <th></th>\n",
       "      <th>Building_Class</th>\n",
       "      <th>Zoning_Class</th>\n",
       "      <th>Lot_Extent</th>\n",
       "      <th>Lot_Size</th>\n",
       "      <th>Road_Type</th>\n",
       "      <th>Property_Shape</th>\n",
       "      <th>Land_Outline</th>\n",
       "      <th>Utility_Type</th>\n",
       "      <th>Lot_Configuration</th>\n",
       "      <th>Property_Slope</th>\n",
       "      <th>...</th>\n",
       "      <th>Enclosed_Lobby_Area</th>\n",
       "      <th>Three_Season_Lobby_Area</th>\n",
       "      <th>Screen_Lobby_Area</th>\n",
       "      <th>Pool_Area</th>\n",
       "      <th>Miscellaneous_Value</th>\n",
       "      <th>Month_Sold</th>\n",
       "      <th>Year_Sold</th>\n",
       "      <th>Sale_Type</th>\n",
       "      <th>Sale_Condition</th>\n",
       "      <th>Sale_Price</th>\n",
       "    </tr>\n",
       "  </thead>\n",
       "  <tbody>\n",
       "    <tr>\n",
       "      <th>0</th>\n",
       "      <td>60</td>\n",
       "      <td>3</td>\n",
       "      <td>65.0</td>\n",
       "      <td>8450</td>\n",
       "      <td>1</td>\n",
       "      <td>3</td>\n",
       "      <td>3</td>\n",
       "      <td>0</td>\n",
       "      <td>4</td>\n",
       "      <td>0</td>\n",
       "      <td>...</td>\n",
       "      <td>20.337934</td>\n",
       "      <td>0</td>\n",
       "      <td>0</td>\n",
       "      <td>0</td>\n",
       "      <td>0</td>\n",
       "      <td>2</td>\n",
       "      <td>2008</td>\n",
       "      <td>8</td>\n",
       "      <td>4</td>\n",
       "      <td>208500</td>\n",
       "    </tr>\n",
       "    <tr>\n",
       "      <th>1</th>\n",
       "      <td>20</td>\n",
       "      <td>3</td>\n",
       "      <td>80.0</td>\n",
       "      <td>9600</td>\n",
       "      <td>1</td>\n",
       "      <td>3</td>\n",
       "      <td>3</td>\n",
       "      <td>0</td>\n",
       "      <td>2</td>\n",
       "      <td>0</td>\n",
       "      <td>...</td>\n",
       "      <td>15.039392</td>\n",
       "      <td>0</td>\n",
       "      <td>0</td>\n",
       "      <td>0</td>\n",
       "      <td>0</td>\n",
       "      <td>5</td>\n",
       "      <td>2007</td>\n",
       "      <td>8</td>\n",
       "      <td>4</td>\n",
       "      <td>181500</td>\n",
       "    </tr>\n",
       "    <tr>\n",
       "      <th>2</th>\n",
       "      <td>60</td>\n",
       "      <td>3</td>\n",
       "      <td>68.0</td>\n",
       "      <td>11250</td>\n",
       "      <td>1</td>\n",
       "      <td>0</td>\n",
       "      <td>3</td>\n",
       "      <td>0</td>\n",
       "      <td>4</td>\n",
       "      <td>0</td>\n",
       "      <td>...</td>\n",
       "      <td>-46.232198</td>\n",
       "      <td>0</td>\n",
       "      <td>0</td>\n",
       "      <td>0</td>\n",
       "      <td>0</td>\n",
       "      <td>9</td>\n",
       "      <td>2008</td>\n",
       "      <td>8</td>\n",
       "      <td>4</td>\n",
       "      <td>223500</td>\n",
       "    </tr>\n",
       "    <tr>\n",
       "      <th>3</th>\n",
       "      <td>70</td>\n",
       "      <td>3</td>\n",
       "      <td>60.0</td>\n",
       "      <td>9550</td>\n",
       "      <td>1</td>\n",
       "      <td>0</td>\n",
       "      <td>3</td>\n",
       "      <td>0</td>\n",
       "      <td>0</td>\n",
       "      <td>0</td>\n",
       "      <td>...</td>\n",
       "      <td>60.921821</td>\n",
       "      <td>0</td>\n",
       "      <td>0</td>\n",
       "      <td>0</td>\n",
       "      <td>0</td>\n",
       "      <td>2</td>\n",
       "      <td>2006</td>\n",
       "      <td>8</td>\n",
       "      <td>0</td>\n",
       "      <td>140000</td>\n",
       "    </tr>\n",
       "    <tr>\n",
       "      <th>4</th>\n",
       "      <td>60</td>\n",
       "      <td>3</td>\n",
       "      <td>84.0</td>\n",
       "      <td>14260</td>\n",
       "      <td>1</td>\n",
       "      <td>0</td>\n",
       "      <td>3</td>\n",
       "      <td>0</td>\n",
       "      <td>2</td>\n",
       "      <td>0</td>\n",
       "      <td>...</td>\n",
       "      <td>21.788818</td>\n",
       "      <td>0</td>\n",
       "      <td>0</td>\n",
       "      <td>0</td>\n",
       "      <td>0</td>\n",
       "      <td>12</td>\n",
       "      <td>2008</td>\n",
       "      <td>8</td>\n",
       "      <td>4</td>\n",
       "      <td>250000</td>\n",
       "    </tr>\n",
       "  </tbody>\n",
       "</table>\n",
       "<p>5 rows × 75 columns</p>\n",
       "</div>"
      ],
      "text/plain": [
       "   Building_Class  Zoning_Class  Lot_Extent  Lot_Size  Road_Type  \\\n",
       "0              60             3        65.0      8450          1   \n",
       "1              20             3        80.0      9600          1   \n",
       "2              60             3        68.0     11250          1   \n",
       "3              70             3        60.0      9550          1   \n",
       "4              60             3        84.0     14260          1   \n",
       "\n",
       "   Property_Shape  Land_Outline  Utility_Type  Lot_Configuration  \\\n",
       "0               3             3             0                  4   \n",
       "1               3             3             0                  2   \n",
       "2               0             3             0                  4   \n",
       "3               0             3             0                  0   \n",
       "4               0             3             0                  2   \n",
       "\n",
       "   Property_Slope  ...  Enclosed_Lobby_Area  Three_Season_Lobby_Area  \\\n",
       "0               0  ...            20.337934                        0   \n",
       "1               0  ...            15.039392                        0   \n",
       "2               0  ...           -46.232198                        0   \n",
       "3               0  ...            60.921821                        0   \n",
       "4               0  ...            21.788818                        0   \n",
       "\n",
       "   Screen_Lobby_Area  Pool_Area  Miscellaneous_Value  Month_Sold  Year_Sold  \\\n",
       "0                  0          0                    0           2       2008   \n",
       "1                  0          0                    0           5       2007   \n",
       "2                  0          0                    0           9       2008   \n",
       "3                  0          0                    0           2       2006   \n",
       "4                  0          0                    0          12       2008   \n",
       "\n",
       "   Sale_Type  Sale_Condition  Sale_Price  \n",
       "0          8               4      208500  \n",
       "1          8               4      181500  \n",
       "2          8               4      223500  \n",
       "3          8               0      140000  \n",
       "4          8               4      250000  \n",
       "\n",
       "[5 rows x 75 columns]"
      ]
     },
     "execution_count": 298,
     "metadata": {},
     "output_type": "execute_result"
    }
   ],
   "source": [
    "pp.head()"
   ]
  },
  {
   "cell_type": "code",
   "execution_count": 383,
   "id": "7335ca25",
   "metadata": {},
   "outputs": [],
   "source": [
    "pp=df1"
   ]
  },
  {
   "cell_type": "code",
   "execution_count": 384,
   "id": "e2ff5725",
   "metadata": {},
   "outputs": [],
   "source": [
    "from sklearn.model_selection import train_test_split\n",
    "pp_train,pp_test=train_test_split(pp,test_size=.2)"
   ]
  },
  {
   "cell_type": "code",
   "execution_count": 385,
   "id": "e1eab8d7",
   "metadata": {},
   "outputs": [],
   "source": [
    "pp_train_x =pp_train.iloc[:,0:-1]\n",
    "pp_train_y =pp_train.iloc[:,-1]\n",
    "\n",
    "pp_test_x =pp_test.iloc[:,0:-1]\n",
    "pp_test_y =pp_test.iloc[:,-1]"
   ]
  },
  {
   "cell_type": "code",
   "execution_count": 386,
   "id": "6fc869c1",
   "metadata": {},
   "outputs": [
    {
     "data": {
      "text/html": [
       "<div>\n",
       "<style scoped>\n",
       "    .dataframe tbody tr th:only-of-type {\n",
       "        vertical-align: middle;\n",
       "    }\n",
       "\n",
       "    .dataframe tbody tr th {\n",
       "        vertical-align: top;\n",
       "    }\n",
       "\n",
       "    .dataframe thead th {\n",
       "        text-align: right;\n",
       "    }\n",
       "</style>\n",
       "<table border=\"1\" class=\"dataframe\">\n",
       "  <thead>\n",
       "    <tr style=\"text-align: right;\">\n",
       "      <th></th>\n",
       "      <th>Building_Class</th>\n",
       "      <th>Zoning_Class</th>\n",
       "      <th>Lot_Extent</th>\n",
       "      <th>Lot_Size</th>\n",
       "      <th>Road_Type</th>\n",
       "      <th>Property_Shape</th>\n",
       "      <th>Land_Outline</th>\n",
       "      <th>Utility_Type</th>\n",
       "      <th>Lot_Configuration</th>\n",
       "      <th>Property_Slope</th>\n",
       "      <th>...</th>\n",
       "      <th>Open_Lobby_Area</th>\n",
       "      <th>Enclosed_Lobby_Area</th>\n",
       "      <th>Three_Season_Lobby_Area</th>\n",
       "      <th>Screen_Lobby_Area</th>\n",
       "      <th>Pool_Area</th>\n",
       "      <th>Miscellaneous_Value</th>\n",
       "      <th>Month_Sold</th>\n",
       "      <th>Year_Sold</th>\n",
       "      <th>Sale_Type</th>\n",
       "      <th>Sale_Condition</th>\n",
       "    </tr>\n",
       "  </thead>\n",
       "  <tbody>\n",
       "    <tr>\n",
       "      <th>1428</th>\n",
       "      <td>30</td>\n",
       "      <td>4</td>\n",
       "      <td>60.000000</td>\n",
       "      <td>7200</td>\n",
       "      <td>1</td>\n",
       "      <td>3</td>\n",
       "      <td>3</td>\n",
       "      <td>0</td>\n",
       "      <td>0</td>\n",
       "      <td>0</td>\n",
       "      <td>...</td>\n",
       "      <td>-66.416533</td>\n",
       "      <td>33.209159</td>\n",
       "      <td>0</td>\n",
       "      <td>0</td>\n",
       "      <td>0</td>\n",
       "      <td>0</td>\n",
       "      <td>2</td>\n",
       "      <td>2010</td>\n",
       "      <td>8</td>\n",
       "      <td>0</td>\n",
       "    </tr>\n",
       "    <tr>\n",
       "      <th>667</th>\n",
       "      <td>20</td>\n",
       "      <td>3</td>\n",
       "      <td>65.000000</td>\n",
       "      <td>8125</td>\n",
       "      <td>1</td>\n",
       "      <td>3</td>\n",
       "      <td>3</td>\n",
       "      <td>0</td>\n",
       "      <td>4</td>\n",
       "      <td>0</td>\n",
       "      <td>...</td>\n",
       "      <td>-38.797500</td>\n",
       "      <td>95.158934</td>\n",
       "      <td>0</td>\n",
       "      <td>0</td>\n",
       "      <td>0</td>\n",
       "      <td>0</td>\n",
       "      <td>10</td>\n",
       "      <td>2008</td>\n",
       "      <td>8</td>\n",
       "      <td>4</td>\n",
       "    </tr>\n",
       "    <tr>\n",
       "      <th>889</th>\n",
       "      <td>20</td>\n",
       "      <td>3</td>\n",
       "      <td>128.000000</td>\n",
       "      <td>12160</td>\n",
       "      <td>1</td>\n",
       "      <td>3</td>\n",
       "      <td>3</td>\n",
       "      <td>0</td>\n",
       "      <td>4</td>\n",
       "      <td>0</td>\n",
       "      <td>...</td>\n",
       "      <td>-23.529471</td>\n",
       "      <td>-72.824522</td>\n",
       "      <td>162</td>\n",
       "      <td>0</td>\n",
       "      <td>0</td>\n",
       "      <td>0</td>\n",
       "      <td>2</td>\n",
       "      <td>2009</td>\n",
       "      <td>8</td>\n",
       "      <td>4</td>\n",
       "    </tr>\n",
       "    <tr>\n",
       "      <th>1064</th>\n",
       "      <td>20</td>\n",
       "      <td>3</td>\n",
       "      <td>70.045833</td>\n",
       "      <td>11000</td>\n",
       "      <td>1</td>\n",
       "      <td>0</td>\n",
       "      <td>3</td>\n",
       "      <td>0</td>\n",
       "      <td>1</td>\n",
       "      <td>0</td>\n",
       "      <td>...</td>\n",
       "      <td>109.781395</td>\n",
       "      <td>-11.435454</td>\n",
       "      <td>0</td>\n",
       "      <td>0</td>\n",
       "      <td>0</td>\n",
       "      <td>0</td>\n",
       "      <td>11</td>\n",
       "      <td>2009</td>\n",
       "      <td>8</td>\n",
       "      <td>4</td>\n",
       "    </tr>\n",
       "    <tr>\n",
       "      <th>627</th>\n",
       "      <td>80</td>\n",
       "      <td>3</td>\n",
       "      <td>80.000000</td>\n",
       "      <td>9600</td>\n",
       "      <td>1</td>\n",
       "      <td>3</td>\n",
       "      <td>3</td>\n",
       "      <td>0</td>\n",
       "      <td>4</td>\n",
       "      <td>0</td>\n",
       "      <td>...</td>\n",
       "      <td>109.161386</td>\n",
       "      <td>-25.592413</td>\n",
       "      <td>0</td>\n",
       "      <td>0</td>\n",
       "      <td>0</td>\n",
       "      <td>0</td>\n",
       "      <td>3</td>\n",
       "      <td>2010</td>\n",
       "      <td>8</td>\n",
       "      <td>4</td>\n",
       "    </tr>\n",
       "  </tbody>\n",
       "</table>\n",
       "<p>5 rows × 74 columns</p>\n",
       "</div>"
      ],
      "text/plain": [
       "      Building_Class  Zoning_Class  Lot_Extent  Lot_Size  Road_Type  \\\n",
       "1428              30             4   60.000000      7200          1   \n",
       "667               20             3   65.000000      8125          1   \n",
       "889               20             3  128.000000     12160          1   \n",
       "1064              20             3   70.045833     11000          1   \n",
       "627               80             3   80.000000      9600          1   \n",
       "\n",
       "      Property_Shape  Land_Outline  Utility_Type  Lot_Configuration  \\\n",
       "1428               3             3             0                  0   \n",
       "667                3             3             0                  4   \n",
       "889                3             3             0                  4   \n",
       "1064               0             3             0                  1   \n",
       "627                3             3             0                  4   \n",
       "\n",
       "      Property_Slope  ...  Open_Lobby_Area  Enclosed_Lobby_Area  \\\n",
       "1428               0  ...       -66.416533            33.209159   \n",
       "667                0  ...       -38.797500            95.158934   \n",
       "889                0  ...       -23.529471           -72.824522   \n",
       "1064               0  ...       109.781395           -11.435454   \n",
       "627                0  ...       109.161386           -25.592413   \n",
       "\n",
       "      Three_Season_Lobby_Area  Screen_Lobby_Area  Pool_Area  \\\n",
       "1428                        0                  0          0   \n",
       "667                         0                  0          0   \n",
       "889                       162                  0          0   \n",
       "1064                        0                  0          0   \n",
       "627                         0                  0          0   \n",
       "\n",
       "      Miscellaneous_Value  Month_Sold  Year_Sold  Sale_Type  Sale_Condition  \n",
       "1428                    0           2       2010          8               0  \n",
       "667                     0          10       2008          8               4  \n",
       "889                     0           2       2009          8               4  \n",
       "1064                    0          11       2009          8               4  \n",
       "627                     0           3       2010          8               4  \n",
       "\n",
       "[5 rows x 74 columns]"
      ]
     },
     "execution_count": 386,
     "metadata": {},
     "output_type": "execute_result"
    }
   ],
   "source": [
    "pp_train_x.head()"
   ]
  },
  {
   "cell_type": "code",
   "execution_count": 387,
   "id": "e8dabd2a",
   "metadata": {},
   "outputs": [
    {
     "data": {
      "text/plain": [
       "520     106250\n",
       "1234    130000\n",
       "553     108000\n",
       "1303    232000\n",
       "516     158000\n",
       "         ...  \n",
       "1069    135000\n",
       "1431    143750\n",
       "242      79000\n",
       "956     124000\n",
       "1065    328000\n",
       "Name: Sale_Price, Length: 280, dtype: int64"
      ]
     },
     "execution_count": 387,
     "metadata": {},
     "output_type": "execute_result"
    }
   ],
   "source": [
    "pp_test_y"
   ]
  },
  {
   "cell_type": "code",
   "execution_count": 388,
   "id": "d43a1858",
   "metadata": {},
   "outputs": [
    {
     "data": {
      "text/plain": [
       "<function sklearn.preprocessing._label.LabelEncoder.fit_transform(self, y)>"
      ]
     },
     "execution_count": 388,
     "metadata": {},
     "output_type": "execute_result"
    }
   ],
   "source": [
    "from sklearn.preprocessing import LabelEncoder #required import \n",
    "le= LabelEncoder\n",
    "le.fit_transform "
   ]
  },
  {
   "cell_type": "code",
   "execution_count": 389,
   "id": "f018ec60",
   "metadata": {},
   "outputs": [],
   "source": [
    "from sklearn.linear_model import LinearRegression\n",
    "linreg= LinearRegression()"
   ]
  },
  {
   "cell_type": "code",
   "execution_count": 390,
   "id": "1f19b454",
   "metadata": {},
   "outputs": [
    {
     "data": {
      "text/html": [
       "<style>#sk-container-id-11 {color: black;}#sk-container-id-11 pre{padding: 0;}#sk-container-id-11 div.sk-toggleable {background-color: white;}#sk-container-id-11 label.sk-toggleable__label {cursor: pointer;display: block;width: 100%;margin-bottom: 0;padding: 0.3em;box-sizing: border-box;text-align: center;}#sk-container-id-11 label.sk-toggleable__label-arrow:before {content: \"▸\";float: left;margin-right: 0.25em;color: #696969;}#sk-container-id-11 label.sk-toggleable__label-arrow:hover:before {color: black;}#sk-container-id-11 div.sk-estimator:hover label.sk-toggleable__label-arrow:before {color: black;}#sk-container-id-11 div.sk-toggleable__content {max-height: 0;max-width: 0;overflow: hidden;text-align: left;background-color: #f0f8ff;}#sk-container-id-11 div.sk-toggleable__content pre {margin: 0.2em;color: black;border-radius: 0.25em;background-color: #f0f8ff;}#sk-container-id-11 input.sk-toggleable__control:checked~div.sk-toggleable__content {max-height: 200px;max-width: 100%;overflow: auto;}#sk-container-id-11 input.sk-toggleable__control:checked~label.sk-toggleable__label-arrow:before {content: \"▾\";}#sk-container-id-11 div.sk-estimator input.sk-toggleable__control:checked~label.sk-toggleable__label {background-color: #d4ebff;}#sk-container-id-11 div.sk-label input.sk-toggleable__control:checked~label.sk-toggleable__label {background-color: #d4ebff;}#sk-container-id-11 input.sk-hidden--visually {border: 0;clip: rect(1px 1px 1px 1px);clip: rect(1px, 1px, 1px, 1px);height: 1px;margin: -1px;overflow: hidden;padding: 0;position: absolute;width: 1px;}#sk-container-id-11 div.sk-estimator {font-family: monospace;background-color: #f0f8ff;border: 1px dotted black;border-radius: 0.25em;box-sizing: border-box;margin-bottom: 0.5em;}#sk-container-id-11 div.sk-estimator:hover {background-color: #d4ebff;}#sk-container-id-11 div.sk-parallel-item::after {content: \"\";width: 100%;border-bottom: 1px solid gray;flex-grow: 1;}#sk-container-id-11 div.sk-label:hover label.sk-toggleable__label {background-color: #d4ebff;}#sk-container-id-11 div.sk-serial::before {content: \"\";position: absolute;border-left: 1px solid gray;box-sizing: border-box;top: 0;bottom: 0;left: 50%;z-index: 0;}#sk-container-id-11 div.sk-serial {display: flex;flex-direction: column;align-items: center;background-color: white;padding-right: 0.2em;padding-left: 0.2em;position: relative;}#sk-container-id-11 div.sk-item {position: relative;z-index: 1;}#sk-container-id-11 div.sk-parallel {display: flex;align-items: stretch;justify-content: center;background-color: white;position: relative;}#sk-container-id-11 div.sk-item::before, #sk-container-id-11 div.sk-parallel-item::before {content: \"\";position: absolute;border-left: 1px solid gray;box-sizing: border-box;top: 0;bottom: 0;left: 50%;z-index: -1;}#sk-container-id-11 div.sk-parallel-item {display: flex;flex-direction: column;z-index: 1;position: relative;background-color: white;}#sk-container-id-11 div.sk-parallel-item:first-child::after {align-self: flex-end;width: 50%;}#sk-container-id-11 div.sk-parallel-item:last-child::after {align-self: flex-start;width: 50%;}#sk-container-id-11 div.sk-parallel-item:only-child::after {width: 0;}#sk-container-id-11 div.sk-dashed-wrapped {border: 1px dashed gray;margin: 0 0.4em 0.5em 0.4em;box-sizing: border-box;padding-bottom: 0.4em;background-color: white;}#sk-container-id-11 div.sk-label label {font-family: monospace;font-weight: bold;display: inline-block;line-height: 1.2em;}#sk-container-id-11 div.sk-label-container {text-align: center;}#sk-container-id-11 div.sk-container {/* jupyter's `normalize.less` sets `[hidden] { display: none; }` but bootstrap.min.css set `[hidden] { display: none !important; }` so we also need the `!important` here to be able to override the default hidden behavior on the sphinx rendered scikit-learn.org. See: https://github.com/scikit-learn/scikit-learn/issues/21755 */display: inline-block !important;position: relative;}#sk-container-id-11 div.sk-text-repr-fallback {display: none;}</style><div id=\"sk-container-id-11\" class=\"sk-top-container\"><div class=\"sk-text-repr-fallback\"><pre>LinearRegression()</pre><b>In a Jupyter environment, please rerun this cell to show the HTML representation or trust the notebook. <br />On GitHub, the HTML representation is unable to render, please try loading this page with nbviewer.org.</b></div><div class=\"sk-container\" hidden><div class=\"sk-item\"><div class=\"sk-estimator sk-toggleable\"><input class=\"sk-toggleable__control sk-hidden--visually\" id=\"sk-estimator-id-11\" type=\"checkbox\" checked><label for=\"sk-estimator-id-11\" class=\"sk-toggleable__label sk-toggleable__label-arrow\">LinearRegression</label><div class=\"sk-toggleable__content\"><pre>LinearRegression()</pre></div></div></div></div></div>"
      ],
      "text/plain": [
       "LinearRegression()"
      ]
     },
     "execution_count": 390,
     "metadata": {},
     "output_type": "execute_result"
    }
   ],
   "source": [
    "linreg.fit(pp_train_x,pp_train_y)"
   ]
  },
  {
   "cell_type": "code",
   "execution_count": 391,
   "id": "0a717469",
   "metadata": {},
   "outputs": [
    {
     "data": {
      "text/plain": [
       "0.8687970887796757"
      ]
     },
     "execution_count": 391,
     "metadata": {},
     "output_type": "execute_result"
    }
   ],
   "source": [
    "linreg.score(pp_train_x,pp_train_y)"
   ]
  },
  {
   "cell_type": "code",
   "execution_count": 392,
   "id": "07f5ce63",
   "metadata": {},
   "outputs": [
    {
     "data": {
      "text/plain": [
       "0.8594704649273184"
      ]
     },
     "execution_count": 392,
     "metadata": {},
     "output_type": "execute_result"
    }
   ],
   "source": [
    "Rsquare=linreg.score(pp_train_x,pp_train_y)\n",
    "N=pp_train_x.shape[0]\n",
    "K=pp_train_x.shape[1]\n",
    "\n",
    "Adju_Rsquare=1-(1-Rsquare)*(N-1)/(N-K-1)\n",
    "Adju_Rsquare"
   ]
  },
  {
   "cell_type": "code",
   "execution_count": 393,
   "id": "55ce1b90",
   "metadata": {},
   "outputs": [
    {
     "data": {
      "text/plain": [
       "795749.5190550641"
      ]
     },
     "execution_count": 393,
     "metadata": {},
     "output_type": "execute_result"
    }
   ],
   "source": [
    "linreg.intercept_"
   ]
  },
  {
   "cell_type": "code",
   "execution_count": 394,
   "id": "cc07c660",
   "metadata": {},
   "outputs": [
    {
     "data": {
      "text/plain": [
       "array([-8.77074782e+01, -3.17246386e+03, -9.18550525e+01,  4.19816519e-01,\n",
       "        2.69606199e+04, -1.30407482e+03,  2.02554943e+03, -3.58693678e+04,\n",
       "        2.26596092e+02,  2.84135616e+03,  2.06188305e+02,  3.50054726e+02,\n",
       "        3.44626386e+02, -1.10456713e+03, -9.85524491e+02,  1.03719585e+04,\n",
       "        4.96351146e+03,  2.01250171e+02,  1.21110401e+02,  5.54805492e+02,\n",
       "        2.05441697e+04, -1.46578478e+03,  8.53857318e+02,  2.34448484e+03,\n",
       "        1.70580921e+01, -5.45091619e+03,  8.67005839e+02,  1.54306515e+03,\n",
       "       -5.61487464e+03,  1.22982482e+03, -1.61331743e+03, -7.20874045e+02,\n",
       "        3.52333621e+00,  2.64081163e+01,  6.94006863e+00, -2.62671551e+00,\n",
       "        7.83668924e+00,  3.54932656e+01, -1.17534571e+03,  7.89673559e+02,\n",
       "        8.82635729e+00,  1.26037929e+01,  1.73106398e+01, -6.17315822e+00,\n",
       "        2.37412745e+01,  7.57602398e+03, -3.14824252e+03,  2.61235101e+03,\n",
       "       -1.58413704e+03,  5.89917382e+02, -7.57672318e+03, -6.06005462e+03,\n",
       "        8.74407608e+02,  2.16839085e+03,  6.04542410e+03, -6.39339519e+02,\n",
       "       -3.33357491e+01, -1.74643537e+03,  1.02924387e+04,  2.17986413e+00,\n",
       "       -2.64924558e+02,  1.28701533e+03,  9.58237963e+02, -3.92675048e+00,\n",
       "        1.49414032e+00,  3.49672271e+00,  1.89608990e+01,  3.19506512e+01,\n",
       "       -9.33571074e+01, -2.24724688e+00,  2.14670893e+02, -7.25623577e+02,\n",
       "       -4.41526509e+02,  2.02708448e+03])"
      ]
     },
     "execution_count": 394,
     "metadata": {},
     "output_type": "execute_result"
    }
   ],
   "source": [
    "linreg.coef_"
   ]
  },
  {
   "cell_type": "code",
   "execution_count": 395,
   "id": "5b95c956",
   "metadata": {},
   "outputs": [
    {
     "data": {
      "text/html": [
       "<div>\n",
       "<style scoped>\n",
       "    .dataframe tbody tr th:only-of-type {\n",
       "        vertical-align: middle;\n",
       "    }\n",
       "\n",
       "    .dataframe tbody tr th {\n",
       "        vertical-align: top;\n",
       "    }\n",
       "\n",
       "    .dataframe thead th {\n",
       "        text-align: right;\n",
       "    }\n",
       "</style>\n",
       "<table border=\"1\" class=\"dataframe\">\n",
       "  <thead>\n",
       "    <tr style=\"text-align: right;\">\n",
       "      <th></th>\n",
       "      <th>Building_Class</th>\n",
       "      <th>Zoning_Class</th>\n",
       "      <th>Lot_Extent</th>\n",
       "      <th>Lot_Size</th>\n",
       "      <th>Road_Type</th>\n",
       "      <th>Property_Shape</th>\n",
       "      <th>Land_Outline</th>\n",
       "      <th>Utility_Type</th>\n",
       "      <th>Lot_Configuration</th>\n",
       "      <th>Property_Slope</th>\n",
       "      <th>...</th>\n",
       "      <th>Open_Lobby_Area</th>\n",
       "      <th>Enclosed_Lobby_Area</th>\n",
       "      <th>Three_Season_Lobby_Area</th>\n",
       "      <th>Screen_Lobby_Area</th>\n",
       "      <th>Pool_Area</th>\n",
       "      <th>Miscellaneous_Value</th>\n",
       "      <th>Month_Sold</th>\n",
       "      <th>Year_Sold</th>\n",
       "      <th>Sale_Type</th>\n",
       "      <th>Sale_Condition</th>\n",
       "    </tr>\n",
       "  </thead>\n",
       "  <tbody>\n",
       "    <tr>\n",
       "      <th>1428</th>\n",
       "      <td>30</td>\n",
       "      <td>4</td>\n",
       "      <td>60.0</td>\n",
       "      <td>7200</td>\n",
       "      <td>1</td>\n",
       "      <td>3</td>\n",
       "      <td>3</td>\n",
       "      <td>0</td>\n",
       "      <td>0</td>\n",
       "      <td>0</td>\n",
       "      <td>...</td>\n",
       "      <td>-66.416533</td>\n",
       "      <td>33.209159</td>\n",
       "      <td>0</td>\n",
       "      <td>0</td>\n",
       "      <td>0</td>\n",
       "      <td>0</td>\n",
       "      <td>2</td>\n",
       "      <td>2010</td>\n",
       "      <td>8</td>\n",
       "      <td>0</td>\n",
       "    </tr>\n",
       "    <tr>\n",
       "      <th>667</th>\n",
       "      <td>20</td>\n",
       "      <td>3</td>\n",
       "      <td>65.0</td>\n",
       "      <td>8125</td>\n",
       "      <td>1</td>\n",
       "      <td>3</td>\n",
       "      <td>3</td>\n",
       "      <td>0</td>\n",
       "      <td>4</td>\n",
       "      <td>0</td>\n",
       "      <td>...</td>\n",
       "      <td>-38.797500</td>\n",
       "      <td>95.158934</td>\n",
       "      <td>0</td>\n",
       "      <td>0</td>\n",
       "      <td>0</td>\n",
       "      <td>0</td>\n",
       "      <td>10</td>\n",
       "      <td>2008</td>\n",
       "      <td>8</td>\n",
       "      <td>4</td>\n",
       "    </tr>\n",
       "  </tbody>\n",
       "</table>\n",
       "<p>2 rows × 74 columns</p>\n",
       "</div>"
      ],
      "text/plain": [
       "      Building_Class  Zoning_Class  Lot_Extent  Lot_Size  Road_Type  \\\n",
       "1428              30             4        60.0      7200          1   \n",
       "667               20             3        65.0      8125          1   \n",
       "\n",
       "      Property_Shape  Land_Outline  Utility_Type  Lot_Configuration  \\\n",
       "1428               3             3             0                  0   \n",
       "667                3             3             0                  4   \n",
       "\n",
       "      Property_Slope  ...  Open_Lobby_Area  Enclosed_Lobby_Area  \\\n",
       "1428               0  ...       -66.416533            33.209159   \n",
       "667                0  ...       -38.797500            95.158934   \n",
       "\n",
       "      Three_Season_Lobby_Area  Screen_Lobby_Area  Pool_Area  \\\n",
       "1428                        0                  0          0   \n",
       "667                         0                  0          0   \n",
       "\n",
       "      Miscellaneous_Value  Month_Sold  Year_Sold  Sale_Type  Sale_Condition  \n",
       "1428                    0           2       2010          8               0  \n",
       "667                     0          10       2008          8               4  \n",
       "\n",
       "[2 rows x 74 columns]"
      ]
     },
     "execution_count": 395,
     "metadata": {},
     "output_type": "execute_result"
    }
   ],
   "source": [
    "pp_train_x.head(2)"
   ]
  },
  {
   "cell_type": "code",
   "execution_count": 396,
   "id": "846b6b16",
   "metadata": {},
   "outputs": [],
   "source": [
    "pred_train=linreg.predict(pp_train_x)"
   ]
  },
  {
   "cell_type": "code",
   "execution_count": 397,
   "id": "151a0fd9",
   "metadata": {},
   "outputs": [],
   "source": [
    "pred_test=linreg.predict(pp_test_x)"
   ]
  },
  {
   "cell_type": "code",
   "execution_count": 398,
   "id": "3a6ffc89",
   "metadata": {},
   "outputs": [
    {
     "data": {
      "text/plain": [
       "1428    119000\n",
       "667     193500\n",
       "889     149500\n",
       "1064    154000\n",
       "627     153000\n",
       "         ...  \n",
       "880     157000\n",
       "1447    240000\n",
       "921     145900\n",
       "988     195000\n",
       "120     180000\n",
       "Name: Sale_Price, Length: 1116, dtype: int64"
      ]
     },
     "execution_count": 398,
     "metadata": {},
     "output_type": "execute_result"
    }
   ],
   "source": [
    "pp_train_y"
   ]
  },
  {
   "cell_type": "code",
   "execution_count": 399,
   "id": "6156c45b",
   "metadata": {},
   "outputs": [
    {
     "data": {
      "text/plain": [
       "array([126767.01367887, 213745.5600064 , 161542.4792617 , ...,\n",
       "       159222.29467459, 200636.51993168, 125717.66074282])"
      ]
     },
     "execution_count": 399,
     "metadata": {},
     "output_type": "execute_result"
    }
   ],
   "source": [
    "pred_train"
   ]
  },
  {
   "cell_type": "code",
   "execution_count": 400,
   "id": "c5d1edce",
   "metadata": {},
   "outputs": [
    {
     "data": {
      "text/plain": [
       "1428    -7767.013679\n",
       "667    -20245.560006\n",
       "889    -12042.479262\n",
       "1064     -759.006797\n",
       "627    -19451.193933\n",
       "            ...     \n",
       "880     -8890.680176\n",
       "1447    -8444.492437\n",
       "921    -13322.294675\n",
       "988     -5636.519932\n",
       "120     54282.339257\n",
       "Name: Sale_Price, Length: 1116, dtype: float64"
      ]
     },
     "execution_count": 400,
     "metadata": {},
     "output_type": "execute_result"
    }
   ],
   "source": [
    "err_train=pp_train_y-pred_train\n",
    "err_train"
   ]
  },
  {
   "cell_type": "code",
   "execution_count": 401,
   "id": "0afab382",
   "metadata": {},
   "outputs": [
    {
     "data": {
      "text/plain": [
       "2.3940247633764822e-11"
      ]
     },
     "execution_count": 401,
     "metadata": {},
     "output_type": "execute_result"
    }
   ],
   "source": [
    "err_train.mean()"
   ]
  },
  {
   "cell_type": "code",
   "execution_count": 402,
   "id": "b7e377da",
   "metadata": {},
   "outputs": [],
   "source": [
    "import matplotlib.pyplot as plt \n",
    "import seaborn as sns "
   ]
  },
  {
   "cell_type": "code",
   "execution_count": 403,
   "id": "86b446bf",
   "metadata": {},
   "outputs": [
    {
     "data": {
      "text/plain": [
       "(array([  1.,   0.,   0.,   0.,   0.,   0.,   0.,   0.,   2.,   1.,   0.,\n",
       "          3.,  30., 117., 335., 366., 171.,  63.,  19.,   8.]),\n",
       " array([-240308.74403464, -224502.32549672, -208695.90695881,\n",
       "        -192889.48842089, -177083.06988298, -161276.65134506,\n",
       "        -145470.23280714, -129663.81426923, -113857.39573131,\n",
       "         -98050.9771934 ,  -82244.55865548,  -66438.14011756,\n",
       "         -50631.72157965,  -34825.30304173,  -19018.88450381,\n",
       "          -3212.4659659 ,   12593.95257202,   28400.37110993,\n",
       "          44206.78964785,   60013.20818577,   75819.62672368]),\n",
       " <BarContainer object of 20 artists>)"
      ]
     },
     "execution_count": 403,
     "metadata": {},
     "output_type": "execute_result"
    },
    {
     "data": {
      "image/png": "[encoded data removed]",
      "text/plain": [
       "<Figure size 640x480 with 1 Axes>"
      ]
     },
     "metadata": {},
     "output_type": "display_data"
    }
   ],
   "source": [
    "plt.hist(err_train,edgecolor='red',bins=20)"
   ]
  },
  {
   "cell_type": "code",
   "execution_count": 404,
   "id": "4c6a6b2a",
   "metadata": {},
   "outputs": [
    {
     "data": {
      "text/plain": [
       "-1.2199923556272931"
      ]
     },
     "execution_count": 404,
     "metadata": {},
     "output_type": "execute_result"
    }
   ],
   "source": [
    "err_train.skew()"
   ]
  },
  {
   "cell_type": "code",
   "execution_count": 405,
   "id": "b334211e",
   "metadata": {},
   "outputs": [
    {
     "data": {
      "text/plain": [
       "15.69491323489877"
      ]
     },
     "execution_count": 405,
     "metadata": {},
     "output_type": "execute_result"
    }
   ],
   "source": [
    "err_train.kurtosis()"
   ]
  },
  {
   "cell_type": "code",
   "execution_count": 406,
   "id": "9629ad48",
   "metadata": {},
   "outputs": [
    {
     "data": {
      "text/plain": [
       "[<matplotlib.lines.Line2D at 0x1d45ca1d250>]"
      ]
     },
     "execution_count": 406,
     "metadata": {},
     "output_type": "execute_result"
    },
    {
     "data": {
      "image/png": "[encoded data removed]",
      "text/plain": [
       "<Figure size 640x480 with 1 Axes>"
      ]
     },
     "metadata": {},
     "output_type": "display_data"
    }
   ],
   "source": [
    "plt.plot(err_train,\"*\")"
   ]
  },
  {
   "cell_type": "code",
   "execution_count": 407,
   "id": "1b1b9821",
   "metadata": {},
   "outputs": [],
   "source": [
    "pred_actual=pd.DataFrame()\n",
    "pred_actual['Actual']=pp_train_y\n",
    "pred_actual['pred']=pred_train"
   ]
  },
  {
   "cell_type": "code",
   "execution_count": 408,
   "id": "f5daf9d4",
   "metadata": {},
   "outputs": [
    {
     "data": {
      "text/plain": [
       "<Axes: xlabel='Actual', ylabel='pred'>"
      ]
     },
     "execution_count": 408,
     "metadata": {},
     "output_type": "execute_result"
    },
    {
     "data": {
      "image/png": "[encoded data removed]",
      "text/plain": [
       "<Figure size 640x480 with 1 Axes>"
      ]
     },
     "metadata": {},
     "output_type": "display_data"
    }
   ],
   "source": [
    "sns.regplot(x='Actual',y='pred',data=pred_actual)"
   ]
  },
  {
   "cell_type": "code",
   "execution_count": 409,
   "id": "750caf5c",
   "metadata": {},
   "outputs": [
    {
     "data": {
      "text/plain": [
       "520     35795.409318\n",
       "1234    16684.532605\n",
       "553     -5815.286066\n",
       "1303    12095.103642\n",
       "516    -20989.440586\n",
       "            ...     \n",
       "1069     9302.106470\n",
       "1431     4310.954170\n",
       "242    -18435.055844\n",
       "956    -14345.032835\n",
       "1065    80518.509248\n",
       "Name: Sale_Price, Length: 280, dtype: float64"
      ]
     },
     "execution_count": 409,
     "metadata": {},
     "output_type": "execute_result"
    }
   ],
   "source": [
    "err_test=pp_test_y-pred_test\n",
    "err_test"
   ]
  },
  {
   "cell_type": "code",
   "execution_count": 410,
   "id": "a0df1720",
   "metadata": {},
   "outputs": [
    {
     "data": {
      "text/plain": [
       "455094716.7605165"
      ]
     },
     "execution_count": 410,
     "metadata": {},
     "output_type": "execute_result"
    }
   ],
   "source": [
    "mse_train=np.mean(np.square(err_train))\n",
    "mse_train"
   ]
  },
  {
   "cell_type": "code",
   "execution_count": 411,
   "id": "9a946f44",
   "metadata": {},
   "outputs": [
    {
     "data": {
      "text/plain": [
       "21332.949087280842"
      ]
     },
     "execution_count": 411,
     "metadata": {},
     "output_type": "execute_result"
    }
   ],
   "source": [
    "rmse_train=np.sqrt(mse_train)\n",
    "rmse_train"
   ]
  },
  {
   "cell_type": "code",
   "execution_count": 412,
   "id": "138aa663",
   "metadata": {},
   "outputs": [
    {
     "data": {
      "text/plain": [
       "9.497885403221328"
      ]
     },
     "execution_count": 412,
     "metadata": {},
     "output_type": "execute_result"
    }
   ],
   "source": [
    "MAPE_train=np.mean(np.abs(err_train*100/pp_train_y))\n",
    "MAPE_train"
   ]
  },
  {
   "cell_type": "code",
   "execution_count": 413,
   "id": "e58e36cf",
   "metadata": {},
   "outputs": [],
   "source": [
    "import numpy as np"
   ]
  },
  {
   "cell_type": "code",
   "execution_count": 414,
   "id": "4b2776f8",
   "metadata": {},
   "outputs": [
    {
     "data": {
      "text/plain": [
       "775015484.851396"
      ]
     },
     "execution_count": 414,
     "metadata": {},
     "output_type": "execute_result"
    }
   ],
   "source": [
    "mse=np.mean(np.square(err_test))\n",
    "mse"
   ]
  },
  {
   "cell_type": "code",
   "execution_count": 415,
   "id": "6ec02933",
   "metadata": {},
   "outputs": [
    {
     "data": {
      "text/plain": [
       "27839.099928902084"
      ]
     },
     "execution_count": 415,
     "metadata": {},
     "output_type": "execute_result"
    }
   ],
   "source": [
    "np.sqrt(mse)"
   ]
  },
  {
   "cell_type": "code",
   "execution_count": 416,
   "id": "abb205cc",
   "metadata": {},
   "outputs": [
    {
     "data": {
      "text/plain": [
       "10.828319526040909"
      ]
     },
     "execution_count": 416,
     "metadata": {},
     "output_type": "execute_result"
    }
   ],
   "source": [
    "MAPE=np.mean(np.abs(err_test*100/pp_test_y))\n",
    "MAPE"
   ]
  },
  {
   "cell_type": "code",
   "execution_count": 417,
   "id": "0cc74a0a",
   "metadata": {},
   "outputs": [
    {
     "data": {
      "text/plain": [
       "89.17168047395909"
      ]
     },
     "execution_count": 417,
     "metadata": {},
     "output_type": "execute_result"
    }
   ],
   "source": [
    "ACC=100-MAPE\n",
    "ACC"
   ]
  },
  {
   "cell_type": "code",
   "execution_count": 447,
   "id": "6f259fd5",
   "metadata": {},
   "outputs": [],
   "source": [
    "def remove_outliers(df,col,k):\n",
    "    mean = df[col].mean()\n",
    "    global df1\n",
    "    sd = df[col].std()\n",
    "    final_list = [x for x in df[col] if (x > mean - k * sd)]\n",
    "    final_list = [x for x in final_list if x < mean + k * sd]\n",
    "    df1 = df.loc[df[col].isin(final_list)] ; print(df1.shape)\n",
    "    print(\"Number of outliers removed == > \", df.shape[0] - df1.shape[0])\n"
   ]
  },
  {
   "cell_type": "code",
   "execution_count": 448,
   "id": "0e02f7d6",
   "metadata": {},
   "outputs": [],
   "source": [
    "#outliers should be delete from entire data"
   ]
  },
  {
   "cell_type": "code",
   "execution_count": 449,
   "id": "701edfb0",
   "metadata": {},
   "outputs": [
    {
     "data": {
      "text/plain": [
       "(1396, 21)"
      ]
     },
     "execution_count": 449,
     "metadata": {},
     "output_type": "execute_result"
    }
   ],
   "source": [
    "pp.shape"
   ]
  },
  {
   "cell_type": "code",
   "execution_count": 450,
   "id": "447f4b52",
   "metadata": {},
   "outputs": [
    {
     "name": "stdout",
     "output_type": "stream",
     "text": [
      "(1326, 21)\n",
      "Number of outliers removed == >  70\n"
     ]
    }
   ],
   "source": [
    "remove_outliers(pp,'Sale_Price',2)"
   ]
  },
  {
   "cell_type": "code",
   "execution_count": 451,
   "id": "ed015774",
   "metadata": {},
   "outputs": [
    {
     "data": {
      "text/plain": [
       "(1326, 21)"
      ]
     },
     "execution_count": 451,
     "metadata": {},
     "output_type": "execute_result"
    }
   ],
   "source": [
    "df1.shape"
   ]
  },
  {
   "cell_type": "code",
   "execution_count": 452,
   "id": "bf3a2709",
   "metadata": {},
   "outputs": [],
   "source": [
    "#after removing outliers again model has to be build"
   ]
  },
  {
   "cell_type": "code",
   "execution_count": null,
   "id": "6fb88bc1",
   "metadata": {},
   "outputs": [],
   "source": []
  },
  {
   "cell_type": "code",
   "execution_count": null,
   "id": "699a2c47",
   "metadata": {},
   "outputs": [],
   "source": []
  },
  {
   "cell_type": "code",
   "execution_count": null,
   "id": "8319a739",
   "metadata": {},
   "outputs": [],
   "source": []
  },
  {
   "cell_type": "code",
   "execution_count": 582,
   "id": "4f0bca5e",
   "metadata": {},
   "outputs": [
    {
     "data": {
      "text/html": [
       "<div>\n",
       "<style scoped>\n",
       "    .dataframe tbody tr th:only-of-type {\n",
       "        vertical-align: middle;\n",
       "    }\n",
       "\n",
       "    .dataframe tbody tr th {\n",
       "        vertical-align: top;\n",
       "    }\n",
       "\n",
       "    .dataframe thead th {\n",
       "        text-align: right;\n",
       "    }\n",
       "</style>\n",
       "<table border=\"1\" class=\"dataframe\">\n",
       "  <thead>\n",
       "    <tr style=\"text-align: right;\">\n",
       "      <th></th>\n",
       "      <th>symboling</th>\n",
       "      <th>normalized_losses</th>\n",
       "      <th>Fuel_type</th>\n",
       "      <th>make</th>\n",
       "      <th>num_of_doors</th>\n",
       "      <th>aspiration</th>\n",
       "      <th>wheel_base</th>\n",
       "      <th>engine_location</th>\n",
       "      <th>drive_wheels</th>\n",
       "      <th>body_style</th>\n",
       "      <th>...</th>\n",
       "      <th>engine_size</th>\n",
       "      <th>fuel_system</th>\n",
       "      <th>bore</th>\n",
       "      <th>stroke</th>\n",
       "      <th>compression_ratio</th>\n",
       "      <th>horsepower</th>\n",
       "      <th>peak_rpm</th>\n",
       "      <th>city_mpg</th>\n",
       "      <th>highway_mpg</th>\n",
       "      <th>price</th>\n",
       "    </tr>\n",
       "  </thead>\n",
       "  <tbody>\n",
       "    <tr>\n",
       "      <th>0</th>\n",
       "      <td>3</td>\n",
       "      <td>?</td>\n",
       "      <td>gas</td>\n",
       "      <td>std</td>\n",
       "      <td>two</td>\n",
       "      <td>convertible</td>\n",
       "      <td>rwd</td>\n",
       "      <td>front</td>\n",
       "      <td>88.6</td>\n",
       "      <td>alfa-romero</td>\n",
       "      <td>...</td>\n",
       "      <td>130</td>\n",
       "      <td>mpfi</td>\n",
       "      <td>3.47</td>\n",
       "      <td>2.68</td>\n",
       "      <td>9.0</td>\n",
       "      <td>111</td>\n",
       "      <td>5000</td>\n",
       "      <td>21</td>\n",
       "      <td>27</td>\n",
       "      <td>13495</td>\n",
       "    </tr>\n",
       "    <tr>\n",
       "      <th>1</th>\n",
       "      <td>3</td>\n",
       "      <td>?</td>\n",
       "      <td>gas</td>\n",
       "      <td>std</td>\n",
       "      <td>two</td>\n",
       "      <td>convertible</td>\n",
       "      <td>rwd</td>\n",
       "      <td>front</td>\n",
       "      <td>88.6</td>\n",
       "      <td>alfa-romero</td>\n",
       "      <td>...</td>\n",
       "      <td>130</td>\n",
       "      <td>mpfi</td>\n",
       "      <td>3.47</td>\n",
       "      <td>2.68</td>\n",
       "      <td>9.0</td>\n",
       "      <td>111</td>\n",
       "      <td>5000</td>\n",
       "      <td>21</td>\n",
       "      <td>27</td>\n",
       "      <td>16500</td>\n",
       "    </tr>\n",
       "    <tr>\n",
       "      <th>2</th>\n",
       "      <td>1</td>\n",
       "      <td>?</td>\n",
       "      <td>gas</td>\n",
       "      <td>std</td>\n",
       "      <td>two</td>\n",
       "      <td>hatchback</td>\n",
       "      <td>rwd</td>\n",
       "      <td>front</td>\n",
       "      <td>94.5</td>\n",
       "      <td>alfa-romero</td>\n",
       "      <td>...</td>\n",
       "      <td>152</td>\n",
       "      <td>mpfi</td>\n",
       "      <td>2.68</td>\n",
       "      <td>3.47</td>\n",
       "      <td>9.0</td>\n",
       "      <td>154</td>\n",
       "      <td>5000</td>\n",
       "      <td>19</td>\n",
       "      <td>26</td>\n",
       "      <td>16500</td>\n",
       "    </tr>\n",
       "    <tr>\n",
       "      <th>3</th>\n",
       "      <td>2</td>\n",
       "      <td>164</td>\n",
       "      <td>gas</td>\n",
       "      <td>std</td>\n",
       "      <td>four</td>\n",
       "      <td>sedan</td>\n",
       "      <td>fwd</td>\n",
       "      <td>front</td>\n",
       "      <td>99.8</td>\n",
       "      <td>audi</td>\n",
       "      <td>...</td>\n",
       "      <td>109</td>\n",
       "      <td>mpfi</td>\n",
       "      <td>3.19</td>\n",
       "      <td>3.4</td>\n",
       "      <td>10.0</td>\n",
       "      <td>102</td>\n",
       "      <td>5500</td>\n",
       "      <td>24</td>\n",
       "      <td>30</td>\n",
       "      <td>13950</td>\n",
       "    </tr>\n",
       "    <tr>\n",
       "      <th>4</th>\n",
       "      <td>2</td>\n",
       "      <td>164</td>\n",
       "      <td>gas</td>\n",
       "      <td>std</td>\n",
       "      <td>four</td>\n",
       "      <td>sedan</td>\n",
       "      <td>4wd</td>\n",
       "      <td>front</td>\n",
       "      <td>99.4</td>\n",
       "      <td>audi</td>\n",
       "      <td>...</td>\n",
       "      <td>136</td>\n",
       "      <td>mpfi</td>\n",
       "      <td>3.19</td>\n",
       "      <td>3.4</td>\n",
       "      <td>8.0</td>\n",
       "      <td>115</td>\n",
       "      <td>5500</td>\n",
       "      <td>18</td>\n",
       "      <td>22</td>\n",
       "      <td>17450</td>\n",
       "    </tr>\n",
       "  </tbody>\n",
       "</table>\n",
       "<p>5 rows × 26 columns</p>\n",
       "</div>"
      ],
      "text/plain": [
       "   symboling normalized_losses Fuel_type make num_of_doors   aspiration  \\\n",
       "0          3                 ?       gas  std          two  convertible   \n",
       "1          3                 ?       gas  std          two  convertible   \n",
       "2          1                 ?       gas  std          two    hatchback   \n",
       "3          2               164       gas  std         four        sedan   \n",
       "4          2               164       gas  std         four        sedan   \n",
       "\n",
       "  wheel_base engine_location  drive_wheels   body_style  ...  engine_size  \\\n",
       "0        rwd           front          88.6  alfa-romero  ...          130   \n",
       "1        rwd           front          88.6  alfa-romero  ...          130   \n",
       "2        rwd           front          94.5  alfa-romero  ...          152   \n",
       "3        fwd           front          99.8         audi  ...          109   \n",
       "4        4wd           front          99.4         audi  ...          136   \n",
       "\n",
       "   fuel_system  bore  stroke compression_ratio horsepower  peak_rpm city_mpg  \\\n",
       "0         mpfi  3.47    2.68               9.0        111      5000       21   \n",
       "1         mpfi  3.47    2.68               9.0        111      5000       21   \n",
       "2         mpfi  2.68    3.47               9.0        154      5000       19   \n",
       "3         mpfi  3.19     3.4              10.0        102      5500       24   \n",
       "4         mpfi  3.19     3.4               8.0        115      5500       18   \n",
       "\n",
       "  highway_mpg  price  \n",
       "0          27  13495  \n",
       "1          27  16500  \n",
       "2          26  16500  \n",
       "3          30  13950  \n",
       "4          22  17450  \n",
       "\n",
       "[5 rows x 26 columns]"
      ]
     },
     "execution_count": 582,
     "metadata": {},
     "output_type": "execute_result"
    }
   ],
   "source": [
    "cp=pd.read_csv(r\"C:\\Users\\Legion\\Documents\\python pandas\\car_price.csv\")\n",
    "cp.head()"
   ]
  },
  {
   "cell_type": "code",
   "execution_count": 583,
   "id": "9f78139b",
   "metadata": {},
   "outputs": [
    {
     "data": {
      "text/plain": [
       "symboling            0\n",
       "normalized_losses    0\n",
       "Fuel_type            0\n",
       "make                 0\n",
       "num_of_doors         0\n",
       "aspiration           0\n",
       "wheel_base           0\n",
       "engine_location      0\n",
       "drive_wheels         0\n",
       "body_style           0\n",
       "length               0\n",
       "width                0\n",
       "height               0\n",
       "curb_weight          0\n",
       "engine_type          0\n",
       "num_of_cylinders     0\n",
       "engine_size          0\n",
       "fuel_system          0\n",
       "bore                 0\n",
       "stroke               0\n",
       "compression_ratio    0\n",
       "horsepower           0\n",
       "peak_rpm             0\n",
       "city_mpg             0\n",
       "highway_mpg          0\n",
       "price                0\n",
       "dtype: int64"
      ]
     },
     "execution_count": 583,
     "metadata": {},
     "output_type": "execute_result"
    }
   ],
   "source": [
    "cp.isnull().sum()"
   ]
  },
  {
   "cell_type": "code",
   "execution_count": 584,
   "id": "dfc843df",
   "metadata": {},
   "outputs": [
    {
     "data": {
      "text/plain": [
       "Series([], dtype: int64)"
      ]
     },
     "execution_count": 584,
     "metadata": {},
     "output_type": "execute_result"
    }
   ],
   "source": [
    "cp.isnull().sum()[cp.isnull().sum()>0]"
   ]
  },
  {
   "cell_type": "code",
   "execution_count": 585,
   "id": "6eb573c4",
   "metadata": {},
   "outputs": [
    {
     "name": "stdout",
     "output_type": "stream",
     "text": [
      "<class 'pandas.core.frame.DataFrame'>\n",
      "RangeIndex: 205 entries, 0 to 204\n",
      "Data columns (total 26 columns):\n",
      " #   Column             Non-Null Count  Dtype  \n",
      "---  ------             --------------  -----  \n",
      " 0   symboling          205 non-null    int64  \n",
      " 1   normalized_losses  205 non-null    object \n",
      " 2   Fuel_type          205 non-null    object \n",
      " 3   make               205 non-null    object \n",
      " 4   num_of_doors       205 non-null    object \n",
      " 5   aspiration         205 non-null    object \n",
      " 6   wheel_base         205 non-null    object \n",
      " 7   engine_location    205 non-null    object \n",
      " 8   drive_wheels       205 non-null    float64\n",
      " 9   body_style         205 non-null    object \n",
      " 10  length             205 non-null    float64\n",
      " 11  width              205 non-null    float64\n",
      " 12  height             205 non-null    float64\n",
      " 13  curb_weight        205 non-null    int64  \n",
      " 14  engine_type        205 non-null    object \n",
      " 15  num_of_cylinders   205 non-null    object \n",
      " 16  engine_size        205 non-null    int64  \n",
      " 17  fuel_system        205 non-null    object \n",
      " 18  bore               205 non-null    object \n",
      " 19  stroke             205 non-null    object \n",
      " 20  compression_ratio  205 non-null    float64\n",
      " 21  horsepower         205 non-null    object \n",
      " 22  peak_rpm           205 non-null    object \n",
      " 23  city_mpg           205 non-null    int64  \n",
      " 24  highway_mpg        205 non-null    int64  \n",
      " 25  price              205 non-null    object \n",
      "dtypes: float64(5), int64(5), object(16)\n",
      "memory usage: 41.8+ KB\n"
     ]
    }
   ],
   "source": [
    "cp.info()"
   ]
  },
  {
   "cell_type": "code",
   "execution_count": 586,
   "id": "edd4ffa6",
   "metadata": {},
   "outputs": [],
   "source": [
    "import numpy as np"
   ]
  },
  {
   "cell_type": "code",
   "execution_count": 587,
   "id": "fcfff2f5",
   "metadata": {},
   "outputs": [],
   "source": [
    "cp=cp.replace({'?':np.nan})\n"
   ]
  },
  {
   "cell_type": "code",
   "execution_count": null,
   "id": "c60f2af8",
   "metadata": {},
   "outputs": [],
   "source": []
  },
  {
   "cell_type": "code",
   "execution_count": 588,
   "id": "32de49e3",
   "metadata": {},
   "outputs": [],
   "source": [
    "cp['normalized_losses'] = cp['normalized_losses'].astype(float)\n",
    "cp.normalized_losses.fillna(cp.normalized_losses.mean(),inplace=True)\n",
    "cp.num_of_doors.fillna('four',inplace=True)\n",
    "cp['bore'] = cp['bore'].astype(float)\n",
    "cp.bore.fillna(cp.bore.mean(),inplace=True)\n",
    "cp['stroke'] = cp['stroke'].astype(float)\n",
    "cp.stroke.fillna(cp.stroke.mean(),inplace=True)\n",
    "cp['horsepower'] = cp['horsepower'].astype(float)\n",
    "cp.horsepower.fillna(cp.horsepower.mean(),inplace=True)\n",
    "cp['peak_rpm'] = cp['peak_rpm'].astype(float)\n",
    "cp.peak_rpm.fillna(cp.peak_rpm.mean(),inplace=True)\n",
    "cp['price'] = cp['price'].astype(float)\n",
    "cp.price.fillna(cp.price.mean(),inplace=True)"
   ]
  },
  {
   "cell_type": "code",
   "execution_count": 591,
   "id": "f73f3b1b",
   "metadata": {},
   "outputs": [
    {
     "data": {
      "text/plain": [
       "array(['four', 'six', 'five', 'three', 'twelve', 'two', 'eight'],\n",
       "      dtype=object)"
      ]
     },
     "execution_count": 591,
     "metadata": {},
     "output_type": "execute_result"
    }
   ],
   "source": [
    "cp.num_of_cylinders.unique()"
   ]
  },
  {
   "cell_type": "code",
   "execution_count": 592,
   "id": "3baa9301",
   "metadata": {},
   "outputs": [],
   "source": [
    "cp.num_of_doors.replace({'two':2, 'four':4},inplace=True)\n",
    "cp.num_of_cylinders.replace({'four':4, 'six':6, 'five':5, 'three':3, 'twelve':12, 'two':2, 'eight':8},inplace=True)"
   ]
  },
  {
   "cell_type": "code",
   "execution_count": null,
   "id": "863513da",
   "metadata": {},
   "outputs": [],
   "source": []
  },
  {
   "cell_type": "code",
   "execution_count": 593,
   "id": "d19e6d2a",
   "metadata": {},
   "outputs": [],
   "source": [
    "from sklearn.preprocessing import LabelEncoder\n",
    "le = LabelEncoder()"
   ]
  },
  {
   "cell_type": "code",
   "execution_count": 594,
   "id": "af2598b6",
   "metadata": {},
   "outputs": [],
   "source": [
    "cp[cp.select_dtypes(include = 'object').columns] = cp[cp.select_dtypes(include = 'object').columns].apply(le.fit_transform)"
   ]
  },
  {
   "cell_type": "code",
   "execution_count": 595,
   "id": "857f3ed0",
   "metadata": {},
   "outputs": [
    {
     "data": {
      "text/html": [
       "<div>\n",
       "<style scoped>\n",
       "    .dataframe tbody tr th:only-of-type {\n",
       "        vertical-align: middle;\n",
       "    }\n",
       "\n",
       "    .dataframe tbody tr th {\n",
       "        vertical-align: top;\n",
       "    }\n",
       "\n",
       "    .dataframe thead th {\n",
       "        text-align: right;\n",
       "    }\n",
       "</style>\n",
       "<table border=\"1\" class=\"dataframe\">\n",
       "  <thead>\n",
       "    <tr style=\"text-align: right;\">\n",
       "      <th></th>\n",
       "      <th>symboling</th>\n",
       "      <th>normalized_losses</th>\n",
       "      <th>Fuel_type</th>\n",
       "      <th>make</th>\n",
       "      <th>num_of_doors</th>\n",
       "      <th>aspiration</th>\n",
       "      <th>wheel_base</th>\n",
       "      <th>engine_location</th>\n",
       "      <th>drive_wheels</th>\n",
       "      <th>body_style</th>\n",
       "      <th>...</th>\n",
       "      <th>engine_size</th>\n",
       "      <th>fuel_system</th>\n",
       "      <th>bore</th>\n",
       "      <th>stroke</th>\n",
       "      <th>compression_ratio</th>\n",
       "      <th>horsepower</th>\n",
       "      <th>peak_rpm</th>\n",
       "      <th>city_mpg</th>\n",
       "      <th>highway_mpg</th>\n",
       "      <th>price</th>\n",
       "    </tr>\n",
       "  </thead>\n",
       "  <tbody>\n",
       "    <tr>\n",
       "      <th>0</th>\n",
       "      <td>3</td>\n",
       "      <td>122.0</td>\n",
       "      <td>1</td>\n",
       "      <td>0</td>\n",
       "      <td>2</td>\n",
       "      <td>0</td>\n",
       "      <td>2</td>\n",
       "      <td>0</td>\n",
       "      <td>88.6</td>\n",
       "      <td>0</td>\n",
       "      <td>...</td>\n",
       "      <td>130</td>\n",
       "      <td>5</td>\n",
       "      <td>3.47</td>\n",
       "      <td>2.68</td>\n",
       "      <td>9.0</td>\n",
       "      <td>111.0</td>\n",
       "      <td>5000.0</td>\n",
       "      <td>21</td>\n",
       "      <td>27</td>\n",
       "      <td>13495.0</td>\n",
       "    </tr>\n",
       "    <tr>\n",
       "      <th>1</th>\n",
       "      <td>3</td>\n",
       "      <td>122.0</td>\n",
       "      <td>1</td>\n",
       "      <td>0</td>\n",
       "      <td>2</td>\n",
       "      <td>0</td>\n",
       "      <td>2</td>\n",
       "      <td>0</td>\n",
       "      <td>88.6</td>\n",
       "      <td>0</td>\n",
       "      <td>...</td>\n",
       "      <td>130</td>\n",
       "      <td>5</td>\n",
       "      <td>3.47</td>\n",
       "      <td>2.68</td>\n",
       "      <td>9.0</td>\n",
       "      <td>111.0</td>\n",
       "      <td>5000.0</td>\n",
       "      <td>21</td>\n",
       "      <td>27</td>\n",
       "      <td>16500.0</td>\n",
       "    </tr>\n",
       "    <tr>\n",
       "      <th>2</th>\n",
       "      <td>1</td>\n",
       "      <td>122.0</td>\n",
       "      <td>1</td>\n",
       "      <td>0</td>\n",
       "      <td>2</td>\n",
       "      <td>2</td>\n",
       "      <td>2</td>\n",
       "      <td>0</td>\n",
       "      <td>94.5</td>\n",
       "      <td>0</td>\n",
       "      <td>...</td>\n",
       "      <td>152</td>\n",
       "      <td>5</td>\n",
       "      <td>2.68</td>\n",
       "      <td>3.47</td>\n",
       "      <td>9.0</td>\n",
       "      <td>154.0</td>\n",
       "      <td>5000.0</td>\n",
       "      <td>19</td>\n",
       "      <td>26</td>\n",
       "      <td>16500.0</td>\n",
       "    </tr>\n",
       "    <tr>\n",
       "      <th>3</th>\n",
       "      <td>2</td>\n",
       "      <td>164.0</td>\n",
       "      <td>1</td>\n",
       "      <td>0</td>\n",
       "      <td>4</td>\n",
       "      <td>3</td>\n",
       "      <td>1</td>\n",
       "      <td>0</td>\n",
       "      <td>99.8</td>\n",
       "      <td>1</td>\n",
       "      <td>...</td>\n",
       "      <td>109</td>\n",
       "      <td>5</td>\n",
       "      <td>3.19</td>\n",
       "      <td>3.40</td>\n",
       "      <td>10.0</td>\n",
       "      <td>102.0</td>\n",
       "      <td>5500.0</td>\n",
       "      <td>24</td>\n",
       "      <td>30</td>\n",
       "      <td>13950.0</td>\n",
       "    </tr>\n",
       "    <tr>\n",
       "      <th>4</th>\n",
       "      <td>2</td>\n",
       "      <td>164.0</td>\n",
       "      <td>1</td>\n",
       "      <td>0</td>\n",
       "      <td>4</td>\n",
       "      <td>3</td>\n",
       "      <td>0</td>\n",
       "      <td>0</td>\n",
       "      <td>99.4</td>\n",
       "      <td>1</td>\n",
       "      <td>...</td>\n",
       "      <td>136</td>\n",
       "      <td>5</td>\n",
       "      <td>3.19</td>\n",
       "      <td>3.40</td>\n",
       "      <td>8.0</td>\n",
       "      <td>115.0</td>\n",
       "      <td>5500.0</td>\n",
       "      <td>18</td>\n",
       "      <td>22</td>\n",
       "      <td>17450.0</td>\n",
       "    </tr>\n",
       "  </tbody>\n",
       "</table>\n",
       "<p>5 rows × 26 columns</p>\n",
       "</div>"
      ],
      "text/plain": [
       "   symboling  normalized_losses  Fuel_type  make  num_of_doors  aspiration  \\\n",
       "0          3              122.0          1     0             2           0   \n",
       "1          3              122.0          1     0             2           0   \n",
       "2          1              122.0          1     0             2           2   \n",
       "3          2              164.0          1     0             4           3   \n",
       "4          2              164.0          1     0             4           3   \n",
       "\n",
       "   wheel_base  engine_location  drive_wheels  body_style  ...  engine_size  \\\n",
       "0           2                0          88.6           0  ...          130   \n",
       "1           2                0          88.6           0  ...          130   \n",
       "2           2                0          94.5           0  ...          152   \n",
       "3           1                0          99.8           1  ...          109   \n",
       "4           0                0          99.4           1  ...          136   \n",
       "\n",
       "   fuel_system  bore  stroke  compression_ratio  horsepower  peak_rpm  \\\n",
       "0            5  3.47    2.68                9.0       111.0    5000.0   \n",
       "1            5  3.47    2.68                9.0       111.0    5000.0   \n",
       "2            5  2.68    3.47                9.0       154.0    5000.0   \n",
       "3            5  3.19    3.40               10.0       102.0    5500.0   \n",
       "4            5  3.19    3.40                8.0       115.0    5500.0   \n",
       "\n",
       "   city_mpg  highway_mpg    price  \n",
       "0        21           27  13495.0  \n",
       "1        21           27  16500.0  \n",
       "2        19           26  16500.0  \n",
       "3        24           30  13950.0  \n",
       "4        18           22  17450.0  \n",
       "\n",
       "[5 rows x 26 columns]"
      ]
     },
     "execution_count": 595,
     "metadata": {},
     "output_type": "execute_result"
    }
   ],
   "source": [
    "cp.head()"
   ]
  },
  {
   "cell_type": "code",
   "execution_count": 596,
   "id": "4e7d3340",
   "metadata": {},
   "outputs": [
    {
     "data": {
      "text/plain": [
       "(205, 26)"
      ]
     },
     "execution_count": 596,
     "metadata": {},
     "output_type": "execute_result"
    }
   ],
   "source": [
    "cp.shape"
   ]
  },
  {
   "cell_type": "code",
   "execution_count": 597,
   "id": "048cb702",
   "metadata": {},
   "outputs": [],
   "source": [
    "from sklearn.model_selection import train_test_split\n",
    "cp_train,cp_test=train_test_split(cp,test_size=.2)"
   ]
  },
  {
   "cell_type": "code",
   "execution_count": 598,
   "id": "b2709b0a",
   "metadata": {},
   "outputs": [],
   "source": [
    "cp_train_x =cp_train.iloc[:,0:-1]\n",
    "cp_train_y =cp_train.iloc[:,-1]\n",
    "\n",
    "cp_test_x =cp_test.iloc[:,0:-1]\n",
    "cp_test_y =cp_test.iloc[:,-1]"
   ]
  },
  {
   "cell_type": "code",
   "execution_count": 599,
   "id": "52c6851c",
   "metadata": {},
   "outputs": [
    {
     "data": {
      "text/html": [
       "<div>\n",
       "<style scoped>\n",
       "    .dataframe tbody tr th:only-of-type {\n",
       "        vertical-align: middle;\n",
       "    }\n",
       "\n",
       "    .dataframe tbody tr th {\n",
       "        vertical-align: top;\n",
       "    }\n",
       "\n",
       "    .dataframe thead th {\n",
       "        text-align: right;\n",
       "    }\n",
       "</style>\n",
       "<table border=\"1\" class=\"dataframe\">\n",
       "  <thead>\n",
       "    <tr style=\"text-align: right;\">\n",
       "      <th></th>\n",
       "      <th>symboling</th>\n",
       "      <th>normalized_losses</th>\n",
       "      <th>Fuel_type</th>\n",
       "      <th>make</th>\n",
       "      <th>num_of_doors</th>\n",
       "      <th>aspiration</th>\n",
       "      <th>wheel_base</th>\n",
       "      <th>engine_location</th>\n",
       "      <th>drive_wheels</th>\n",
       "      <th>body_style</th>\n",
       "      <th>...</th>\n",
       "      <th>num_of_cylinders</th>\n",
       "      <th>engine_size</th>\n",
       "      <th>fuel_system</th>\n",
       "      <th>bore</th>\n",
       "      <th>stroke</th>\n",
       "      <th>compression_ratio</th>\n",
       "      <th>horsepower</th>\n",
       "      <th>peak_rpm</th>\n",
       "      <th>city_mpg</th>\n",
       "      <th>highway_mpg</th>\n",
       "    </tr>\n",
       "  </thead>\n",
       "  <tbody>\n",
       "    <tr>\n",
       "      <th>15</th>\n",
       "      <td>0</td>\n",
       "      <td>122.0</td>\n",
       "      <td>1</td>\n",
       "      <td>0</td>\n",
       "      <td>4</td>\n",
       "      <td>3</td>\n",
       "      <td>2</td>\n",
       "      <td>0</td>\n",
       "      <td>103.5</td>\n",
       "      <td>2</td>\n",
       "      <td>...</td>\n",
       "      <td>6</td>\n",
       "      <td>209</td>\n",
       "      <td>5</td>\n",
       "      <td>3.62</td>\n",
       "      <td>3.39</td>\n",
       "      <td>8.0</td>\n",
       "      <td>182.0</td>\n",
       "      <td>5400.0</td>\n",
       "      <td>16</td>\n",
       "      <td>22</td>\n",
       "    </tr>\n",
       "    <tr>\n",
       "      <th>52</th>\n",
       "      <td>1</td>\n",
       "      <td>104.0</td>\n",
       "      <td>1</td>\n",
       "      <td>0</td>\n",
       "      <td>2</td>\n",
       "      <td>2</td>\n",
       "      <td>1</td>\n",
       "      <td>0</td>\n",
       "      <td>93.1</td>\n",
       "      <td>8</td>\n",
       "      <td>...</td>\n",
       "      <td>4</td>\n",
       "      <td>91</td>\n",
       "      <td>1</td>\n",
       "      <td>3.03</td>\n",
       "      <td>3.15</td>\n",
       "      <td>9.0</td>\n",
       "      <td>68.0</td>\n",
       "      <td>5000.0</td>\n",
       "      <td>31</td>\n",
       "      <td>38</td>\n",
       "    </tr>\n",
       "    <tr>\n",
       "      <th>192</th>\n",
       "      <td>0</td>\n",
       "      <td>122.0</td>\n",
       "      <td>0</td>\n",
       "      <td>1</td>\n",
       "      <td>4</td>\n",
       "      <td>3</td>\n",
       "      <td>1</td>\n",
       "      <td>0</td>\n",
       "      <td>100.4</td>\n",
       "      <td>20</td>\n",
       "      <td>...</td>\n",
       "      <td>4</td>\n",
       "      <td>97</td>\n",
       "      <td>3</td>\n",
       "      <td>3.01</td>\n",
       "      <td>3.40</td>\n",
       "      <td>23.0</td>\n",
       "      <td>68.0</td>\n",
       "      <td>4500.0</td>\n",
       "      <td>33</td>\n",
       "      <td>38</td>\n",
       "    </tr>\n",
       "    <tr>\n",
       "      <th>89</th>\n",
       "      <td>1</td>\n",
       "      <td>128.0</td>\n",
       "      <td>1</td>\n",
       "      <td>0</td>\n",
       "      <td>2</td>\n",
       "      <td>3</td>\n",
       "      <td>1</td>\n",
       "      <td>0</td>\n",
       "      <td>94.5</td>\n",
       "      <td>12</td>\n",
       "      <td>...</td>\n",
       "      <td>4</td>\n",
       "      <td>97</td>\n",
       "      <td>1</td>\n",
       "      <td>3.15</td>\n",
       "      <td>3.29</td>\n",
       "      <td>9.4</td>\n",
       "      <td>69.0</td>\n",
       "      <td>5200.0</td>\n",
       "      <td>31</td>\n",
       "      <td>37</td>\n",
       "    </tr>\n",
       "    <tr>\n",
       "      <th>71</th>\n",
       "      <td>-1</td>\n",
       "      <td>122.0</td>\n",
       "      <td>1</td>\n",
       "      <td>0</td>\n",
       "      <td>4</td>\n",
       "      <td>3</td>\n",
       "      <td>2</td>\n",
       "      <td>0</td>\n",
       "      <td>115.6</td>\n",
       "      <td>9</td>\n",
       "      <td>...</td>\n",
       "      <td>8</td>\n",
       "      <td>234</td>\n",
       "      <td>5</td>\n",
       "      <td>3.46</td>\n",
       "      <td>3.10</td>\n",
       "      <td>8.3</td>\n",
       "      <td>155.0</td>\n",
       "      <td>4750.0</td>\n",
       "      <td>16</td>\n",
       "      <td>18</td>\n",
       "    </tr>\n",
       "  </tbody>\n",
       "</table>\n",
       "<p>5 rows × 25 columns</p>\n",
       "</div>"
      ],
      "text/plain": [
       "     symboling  normalized_losses  Fuel_type  make  num_of_doors  aspiration  \\\n",
       "15           0              122.0          1     0             4           3   \n",
       "52           1              104.0          1     0             2           2   \n",
       "192          0              122.0          0     1             4           3   \n",
       "89           1              128.0          1     0             2           3   \n",
       "71          -1              122.0          1     0             4           3   \n",
       "\n",
       "     wheel_base  engine_location  drive_wheels  body_style  ...  \\\n",
       "15            2                0         103.5           2  ...   \n",
       "52            1                0          93.1           8  ...   \n",
       "192           1                0         100.4          20  ...   \n",
       "89            1                0          94.5          12  ...   \n",
       "71            2                0         115.6           9  ...   \n",
       "\n",
       "     num_of_cylinders  engine_size  fuel_system  bore  stroke  \\\n",
       "15                  6          209            5  3.62    3.39   \n",
       "52                  4           91            1  3.03    3.15   \n",
       "192                 4           97            3  3.01    3.40   \n",
       "89                  4           97            1  3.15    3.29   \n",
       "71                  8          234            5  3.46    3.10   \n",
       "\n",
       "     compression_ratio  horsepower  peak_rpm  city_mpg  highway_mpg  \n",
       "15                 8.0       182.0    5400.0        16           22  \n",
       "52                 9.0        68.0    5000.0        31           38  \n",
       "192               23.0        68.0    4500.0        33           38  \n",
       "89                 9.4        69.0    5200.0        31           37  \n",
       "71                 8.3       155.0    4750.0        16           18  \n",
       "\n",
       "[5 rows x 25 columns]"
      ]
     },
     "execution_count": 599,
     "metadata": {},
     "output_type": "execute_result"
    }
   ],
   "source": [
    "cp_train_x.head()"
   ]
  },
  {
   "cell_type": "code",
   "execution_count": 600,
   "id": "98742644",
   "metadata": {},
   "outputs": [
    {
     "data": {
      "text/plain": [
       "40     10295.000000\n",
       "67     25552.000000\n",
       "130     9295.000000\n",
       "63     10795.000000\n",
       "83     14869.000000\n",
       "98      8249.000000\n",
       "5      15250.000000\n",
       "105    19699.000000\n",
       "44     13207.129353\n",
       "152     6488.000000\n",
       "174    10698.000000\n",
       "202    21485.000000\n",
       "24      6229.000000\n",
       "80      9959.000000\n",
       "147    10198.000000\n",
       "156     6938.000000\n",
       "198    18420.000000\n",
       "148     8013.000000\n",
       "109    12440.000000\n",
       "60      8495.000000\n",
       "77      6189.000000\n",
       "173     8948.000000\n",
       "100     9549.000000\n",
       "117    18150.000000\n",
       "200    16845.000000\n",
       "38      9095.000000\n",
       "159     7788.000000\n",
       "135    15510.000000\n",
       "160     7738.000000\n",
       "157     7198.000000\n",
       "101    13499.000000\n",
       "69     28176.000000\n",
       "19      6295.000000\n",
       "91      6649.000000\n",
       "75     16503.000000\n",
       "177    11248.000000\n",
       "85      6989.000000\n",
       "95      7799.000000\n",
       "119     7957.000000\n",
       "114    17075.000000\n",
       "195    13415.000000\n",
       "Name: price, dtype: float64"
      ]
     },
     "execution_count": 600,
     "metadata": {},
     "output_type": "execute_result"
    }
   ],
   "source": [
    "cp_test_y"
   ]
  },
  {
   "cell_type": "code",
   "execution_count": 601,
   "id": "990139de",
   "metadata": {},
   "outputs": [
    {
     "data": {
      "text/plain": [
       "<function sklearn.preprocessing._label.LabelEncoder.fit_transform(self, y)>"
      ]
     },
     "execution_count": 601,
     "metadata": {},
     "output_type": "execute_result"
    }
   ],
   "source": [
    "from sklearn.preprocessing import LabelEncoder #required import \n",
    "le= LabelEncoder\n",
    "le.fit_transform "
   ]
  },
  {
   "cell_type": "code",
   "execution_count": 602,
   "id": "2886364f",
   "metadata": {},
   "outputs": [],
   "source": [
    "from sklearn.linear_model import LinearRegression\n",
    "linreg= LinearRegression()"
   ]
  },
  {
   "cell_type": "code",
   "execution_count": 603,
   "id": "8c578933",
   "metadata": {},
   "outputs": [
    {
     "data": {
      "text/html": [
       "<style>#sk-container-id-15 {color: black;}#sk-container-id-15 pre{padding: 0;}#sk-container-id-15 div.sk-toggleable {background-color: white;}#sk-container-id-15 label.sk-toggleable__label {cursor: pointer;display: block;width: 100%;margin-bottom: 0;padding: 0.3em;box-sizing: border-box;text-align: center;}#sk-container-id-15 label.sk-toggleable__label-arrow:before {content: \"▸\";float: left;margin-right: 0.25em;color: #696969;}#sk-container-id-15 label.sk-toggleable__label-arrow:hover:before {color: black;}#sk-container-id-15 div.sk-estimator:hover label.sk-toggleable__label-arrow:before {color: black;}#sk-container-id-15 div.sk-toggleable__content {max-height: 0;max-width: 0;overflow: hidden;text-align: left;background-color: #f0f8ff;}#sk-container-id-15 div.sk-toggleable__content pre {margin: 0.2em;color: black;border-radius: 0.25em;background-color: #f0f8ff;}#sk-container-id-15 input.sk-toggleable__control:checked~div.sk-toggleable__content {max-height: 200px;max-width: 100%;overflow: auto;}#sk-container-id-15 input.sk-toggleable__control:checked~label.sk-toggleable__label-arrow:before {content: \"▾\";}#sk-container-id-15 div.sk-estimator input.sk-toggleable__control:checked~label.sk-toggleable__label {background-color: #d4ebff;}#sk-container-id-15 div.sk-label input.sk-toggleable__control:checked~label.sk-toggleable__label {background-color: #d4ebff;}#sk-container-id-15 input.sk-hidden--visually {border: 0;clip: rect(1px 1px 1px 1px);clip: rect(1px, 1px, 1px, 1px);height: 1px;margin: -1px;overflow: hidden;padding: 0;position: absolute;width: 1px;}#sk-container-id-15 div.sk-estimator {font-family: monospace;background-color: #f0f8ff;border: 1px dotted black;border-radius: 0.25em;box-sizing: border-box;margin-bottom: 0.5em;}#sk-container-id-15 div.sk-estimator:hover {background-color: #d4ebff;}#sk-container-id-15 div.sk-parallel-item::after {content: \"\";width: 100%;border-bottom: 1px solid gray;flex-grow: 1;}#sk-container-id-15 div.sk-label:hover label.sk-toggleable__label {background-color: #d4ebff;}#sk-container-id-15 div.sk-serial::before {content: \"\";position: absolute;border-left: 1px solid gray;box-sizing: border-box;top: 0;bottom: 0;left: 50%;z-index: 0;}#sk-container-id-15 div.sk-serial {display: flex;flex-direction: column;align-items: center;background-color: white;padding-right: 0.2em;padding-left: 0.2em;position: relative;}#sk-container-id-15 div.sk-item {position: relative;z-index: 1;}#sk-container-id-15 div.sk-parallel {display: flex;align-items: stretch;justify-content: center;background-color: white;position: relative;}#sk-container-id-15 div.sk-item::before, #sk-container-id-15 div.sk-parallel-item::before {content: \"\";position: absolute;border-left: 1px solid gray;box-sizing: border-box;top: 0;bottom: 0;left: 50%;z-index: -1;}#sk-container-id-15 div.sk-parallel-item {display: flex;flex-direction: column;z-index: 1;position: relative;background-color: white;}#sk-container-id-15 div.sk-parallel-item:first-child::after {align-self: flex-end;width: 50%;}#sk-container-id-15 div.sk-parallel-item:last-child::after {align-self: flex-start;width: 50%;}#sk-container-id-15 div.sk-parallel-item:only-child::after {width: 0;}#sk-container-id-15 div.sk-dashed-wrapped {border: 1px dashed gray;margin: 0 0.4em 0.5em 0.4em;box-sizing: border-box;padding-bottom: 0.4em;background-color: white;}#sk-container-id-15 div.sk-label label {font-family: monospace;font-weight: bold;display: inline-block;line-height: 1.2em;}#sk-container-id-15 div.sk-label-container {text-align: center;}#sk-container-id-15 div.sk-container {/* jupyter's `normalize.less` sets `[hidden] { display: none; }` but bootstrap.min.css set `[hidden] { display: none !important; }` so we also need the `!important` here to be able to override the default hidden behavior on the sphinx rendered scikit-learn.org. See: https://github.com/scikit-learn/scikit-learn/issues/21755 */display: inline-block !important;position: relative;}#sk-container-id-15 div.sk-text-repr-fallback {display: none;}</style><div id=\"sk-container-id-15\" class=\"sk-top-container\"><div class=\"sk-text-repr-fallback\"><pre>LinearRegression()</pre><b>In a Jupyter environment, please rerun this cell to show the HTML representation or trust the notebook. <br />On GitHub, the HTML representation is unable to render, please try loading this page with nbviewer.org.</b></div><div class=\"sk-container\" hidden><div class=\"sk-item\"><div class=\"sk-estimator sk-toggleable\"><input class=\"sk-toggleable__control sk-hidden--visually\" id=\"sk-estimator-id-15\" type=\"checkbox\" checked><label for=\"sk-estimator-id-15\" class=\"sk-toggleable__label sk-toggleable__label-arrow\">LinearRegression</label><div class=\"sk-toggleable__content\"><pre>LinearRegression()</pre></div></div></div></div></div>"
      ],
      "text/plain": [
       "LinearRegression()"
      ]
     },
     "execution_count": 603,
     "metadata": {},
     "output_type": "execute_result"
    }
   ],
   "source": [
    "linreg.fit(cp_train_x,cp_train_y)"
   ]
  },
  {
   "cell_type": "code",
   "execution_count": 604,
   "id": "406aa5df",
   "metadata": {},
   "outputs": [
    {
     "data": {
      "text/plain": [
       "0.8872740131195119"
      ]
     },
     "execution_count": 604,
     "metadata": {},
     "output_type": "execute_result"
    }
   ],
   "source": [
    "linreg.score(cp_train_x,cp_train_y)"
   ]
  },
  {
   "cell_type": "code",
   "execution_count": 605,
   "id": "acca1158",
   "metadata": {},
   "outputs": [
    {
     "data": {
      "text/plain": [
       "0.8668526386846409"
      ]
     },
     "execution_count": 605,
     "metadata": {},
     "output_type": "execute_result"
    }
   ],
   "source": [
    "Rsquare=linreg.score(cp_train_x,cp_train_y)\n",
    "N=cp_train_x.shape[0]\n",
    "K=cp_train_x.shape[1]\n",
    "\n",
    "Adju_Rsquare=1-(1-Rsquare)*(N-1)/(N-K-1)\n",
    "Adju_Rsquare"
   ]
  },
  {
   "cell_type": "code",
   "execution_count": 606,
   "id": "f33fe8db",
   "metadata": {},
   "outputs": [
    {
     "data": {
      "text/plain": [
       "-52243.70498022946"
      ]
     },
     "execution_count": 606,
     "metadata": {},
     "output_type": "execute_result"
    }
   ],
   "source": [
    "linreg.intercept_"
   ]
  },
  {
   "cell_type": "code",
   "execution_count": 607,
   "id": "181d7880",
   "metadata": {},
   "outputs": [
    {
     "data": {
      "text/plain": [
       "array([ 1.89705953e+02, -5.56126355e-01,  7.32296677e+03,  1.88705330e+03,\n",
       "        4.93874320e+02, -5.51546045e+02,  1.32927858e+03,  1.27023500e+04,\n",
       "        6.59440501e+01, -2.21025228e+02,  2.36444895e+01,  3.45272406e+02,\n",
       "        2.90192410e+02,  2.13298456e+00,  4.66546308e+02, -1.62080226e+03,\n",
       "        1.63234418e+02,  1.90201318e+02, -3.74797606e+03, -3.66469290e+03,\n",
       "        5.99663952e+02, -1.35729282e+01,  1.88823275e+00,  1.03189461e+02,\n",
       "       -1.13476156e+02])"
      ]
     },
     "execution_count": 607,
     "metadata": {},
     "output_type": "execute_result"
    }
   ],
   "source": [
    "linreg.coef_"
   ]
  },
  {
   "cell_type": "code",
   "execution_count": 608,
   "id": "31474b4b",
   "metadata": {},
   "outputs": [
    {
     "data": {
      "text/html": [
       "<div>\n",
       "<style scoped>\n",
       "    .dataframe tbody tr th:only-of-type {\n",
       "        vertical-align: middle;\n",
       "    }\n",
       "\n",
       "    .dataframe tbody tr th {\n",
       "        vertical-align: top;\n",
       "    }\n",
       "\n",
       "    .dataframe thead th {\n",
       "        text-align: right;\n",
       "    }\n",
       "</style>\n",
       "<table border=\"1\" class=\"dataframe\">\n",
       "  <thead>\n",
       "    <tr style=\"text-align: right;\">\n",
       "      <th></th>\n",
       "      <th>symboling</th>\n",
       "      <th>normalized_losses</th>\n",
       "      <th>Fuel_type</th>\n",
       "      <th>make</th>\n",
       "      <th>num_of_doors</th>\n",
       "      <th>aspiration</th>\n",
       "      <th>wheel_base</th>\n",
       "      <th>engine_location</th>\n",
       "      <th>drive_wheels</th>\n",
       "      <th>body_style</th>\n",
       "      <th>...</th>\n",
       "      <th>num_of_cylinders</th>\n",
       "      <th>engine_size</th>\n",
       "      <th>fuel_system</th>\n",
       "      <th>bore</th>\n",
       "      <th>stroke</th>\n",
       "      <th>compression_ratio</th>\n",
       "      <th>horsepower</th>\n",
       "      <th>peak_rpm</th>\n",
       "      <th>city_mpg</th>\n",
       "      <th>highway_mpg</th>\n",
       "    </tr>\n",
       "  </thead>\n",
       "  <tbody>\n",
       "    <tr>\n",
       "      <th>15</th>\n",
       "      <td>0</td>\n",
       "      <td>122.0</td>\n",
       "      <td>1</td>\n",
       "      <td>0</td>\n",
       "      <td>4</td>\n",
       "      <td>3</td>\n",
       "      <td>2</td>\n",
       "      <td>0</td>\n",
       "      <td>103.5</td>\n",
       "      <td>2</td>\n",
       "      <td>...</td>\n",
       "      <td>6</td>\n",
       "      <td>209</td>\n",
       "      <td>5</td>\n",
       "      <td>3.62</td>\n",
       "      <td>3.39</td>\n",
       "      <td>8.0</td>\n",
       "      <td>182.0</td>\n",
       "      <td>5400.0</td>\n",
       "      <td>16</td>\n",
       "      <td>22</td>\n",
       "    </tr>\n",
       "    <tr>\n",
       "      <th>52</th>\n",
       "      <td>1</td>\n",
       "      <td>104.0</td>\n",
       "      <td>1</td>\n",
       "      <td>0</td>\n",
       "      <td>2</td>\n",
       "      <td>2</td>\n",
       "      <td>1</td>\n",
       "      <td>0</td>\n",
       "      <td>93.1</td>\n",
       "      <td>8</td>\n",
       "      <td>...</td>\n",
       "      <td>4</td>\n",
       "      <td>91</td>\n",
       "      <td>1</td>\n",
       "      <td>3.03</td>\n",
       "      <td>3.15</td>\n",
       "      <td>9.0</td>\n",
       "      <td>68.0</td>\n",
       "      <td>5000.0</td>\n",
       "      <td>31</td>\n",
       "      <td>38</td>\n",
       "    </tr>\n",
       "  </tbody>\n",
       "</table>\n",
       "<p>2 rows × 25 columns</p>\n",
       "</div>"
      ],
      "text/plain": [
       "    symboling  normalized_losses  Fuel_type  make  num_of_doors  aspiration  \\\n",
       "15          0              122.0          1     0             4           3   \n",
       "52          1              104.0          1     0             2           2   \n",
       "\n",
       "    wheel_base  engine_location  drive_wheels  body_style  ...  \\\n",
       "15           2                0         103.5           2  ...   \n",
       "52           1                0          93.1           8  ...   \n",
       "\n",
       "    num_of_cylinders  engine_size  fuel_system  bore  stroke  \\\n",
       "15                 6          209            5  3.62    3.39   \n",
       "52                 4           91            1  3.03    3.15   \n",
       "\n",
       "    compression_ratio  horsepower  peak_rpm  city_mpg  highway_mpg  \n",
       "15                8.0       182.0    5400.0        16           22  \n",
       "52                9.0        68.0    5000.0        31           38  \n",
       "\n",
       "[2 rows x 25 columns]"
      ]
     },
     "execution_count": 608,
     "metadata": {},
     "output_type": "execute_result"
    }
   ],
   "source": [
    "cp_train_x.head(2)"
   ]
  },
  {
   "cell_type": "code",
   "execution_count": 609,
   "id": "157ef811",
   "metadata": {},
   "outputs": [],
   "source": [
    "err_train=cp_train_y-pred_train"
   ]
  },
  {
   "cell_type": "code",
   "execution_count": 610,
   "id": "b7b03136",
   "metadata": {},
   "outputs": [],
   "source": [
    "pred_train=linreg.predict(cp_train_x)"
   ]
  },
  {
   "cell_type": "code",
   "execution_count": 611,
   "id": "b5716ff8",
   "metadata": {},
   "outputs": [],
   "source": [
    "pred_test=linreg.predict(cp_test_x)"
   ]
  },
  {
   "cell_type": "code",
   "execution_count": 612,
   "id": "b9cdfaf9",
   "metadata": {},
   "outputs": [
    {
     "data": {
      "text/plain": [
       "15     30760.0\n",
       "52      6795.0\n",
       "192    13845.0\n",
       "89      5499.0\n",
       "71     34184.0\n",
       "        ...   \n",
       "48     35550.0\n",
       "4      17450.0\n",
       "139     7053.0\n",
       "72     35056.0\n",
       "185     8195.0\n",
       "Name: price, Length: 164, dtype: float64"
      ]
     },
     "execution_count": 612,
     "metadata": {},
     "output_type": "execute_result"
    }
   ],
   "source": [
    "cp_train_y"
   ]
  },
  {
   "cell_type": "code",
   "execution_count": 613,
   "id": "5c64efb5",
   "metadata": {},
   "outputs": [
    {
     "data": {
      "text/plain": [
       "13430.020658900617"
      ]
     },
     "execution_count": 613,
     "metadata": {},
     "output_type": "execute_result"
    }
   ],
   "source": [
    "err_train.mean()"
   ]
  },
  {
   "cell_type": "code",
   "execution_count": 614,
   "id": "795be9e8",
   "metadata": {},
   "outputs": [],
   "source": [
    "import matplotlib.pyplot as plt\n",
    "import seaborn as sns "
   ]
  },
  {
   "cell_type": "code",
   "execution_count": 615,
   "id": "964c2373",
   "metadata": {},
   "outputs": [
    {
     "data": {
      "text/plain": [
       "(array([29., 35., 20., 16., 14., 16., 12.,  2.,  3.,  2.,  0.,  1.,  1.,\n",
       "         3.,  3.,  4.,  0.,  2.,  0.,  1.]),\n",
       " array([ 5002.22153228,  7019.24448109,  9036.2674299 , 11053.2903787 ,\n",
       "        13070.31332751, 15087.33627632, 17104.35922513, 19121.38217394,\n",
       "        21138.40512275, 23155.42807155, 25172.45102036, 27189.47396917,\n",
       "        29206.49691798, 31223.51986679, 33240.5428156 , 35257.5657644 ,\n",
       "        37274.58871321, 39291.61166202, 41308.63461083, 43325.65755964,\n",
       "        45342.68050845]),\n",
       " <BarContainer object of 20 artists>)"
      ]
     },
     "execution_count": 615,
     "metadata": {},
     "output_type": "execute_result"
    },
    {
     "data": {
      "image/png": "[encoded data removed]",
      "text/plain": [
       "<Figure size 640x480 with 1 Axes>"
      ]
     },
     "metadata": {},
     "output_type": "display_data"
    }
   ],
   "source": [
    "plt.hist(err_train,edgecolor='red',bins=20)"
   ]
  },
  {
   "cell_type": "code",
   "execution_count": 616,
   "id": "78ff4cfb",
   "metadata": {},
   "outputs": [
    {
     "data": {
      "text/plain": [
       "1.769612845541981"
      ]
     },
     "execution_count": 616,
     "metadata": {},
     "output_type": "execute_result"
    }
   ],
   "source": [
    "err_train.skew()"
   ]
  },
  {
   "cell_type": "code",
   "execution_count": 617,
   "id": "6dab0b96",
   "metadata": {},
   "outputs": [
    {
     "data": {
      "text/plain": [
       "2.8733957475088943"
      ]
     },
     "execution_count": 617,
     "metadata": {},
     "output_type": "execute_result"
    }
   ],
   "source": [
    "err_train.kurtosis()"
   ]
  },
  {
   "cell_type": "code",
   "execution_count": 618,
   "id": "fca8ba3b",
   "metadata": {},
   "outputs": [
    {
     "data": {
      "text/plain": [
       "[<matplotlib.lines.Line2D at 0x1d4626f89d0>]"
      ]
     },
     "execution_count": 618,
     "metadata": {},
     "output_type": "execute_result"
    },
    {
     "data": {
      "image/png": "[encoded data removed]",
      "text/plain": [
       "<Figure size 640x480 with 1 Axes>"
      ]
     },
     "metadata": {},
     "output_type": "display_data"
    }
   ],
   "source": [
    "plt.plot(err_train,\"*\")"
   ]
  },
  {
   "cell_type": "code",
   "execution_count": 619,
   "id": "2aaf5836",
   "metadata": {},
   "outputs": [],
   "source": [
    "pred_actual=pd.DataFrame()\n",
    "pred_actual['Actual']=cp_train_y\n",
    "pred_actual['pred']=pred_train"
   ]
  },
  {
   "cell_type": "code",
   "execution_count": 620,
   "id": "1d7d28d3",
   "metadata": {},
   "outputs": [
    {
     "data": {
      "text/plain": [
       "<Axes: xlabel='Actual', ylabel='pred'>"
      ]
     },
     "execution_count": 620,
     "metadata": {},
     "output_type": "execute_result"
    },
    {
     "data": {
      "image/png": "[encoded data removed]",
      "text/plain": [
       "<Figure size 640x480 with 1 Axes>"
      ]
     },
     "metadata": {},
     "output_type": "display_data"
    }
   ],
   "source": [
    "sns.regplot(x='Actual',y='pred',data=pred_actual)"
   ]
  },
  {
   "cell_type": "code",
   "execution_count": 621,
   "id": "6e7400f5",
   "metadata": {},
   "outputs": [
    {
     "data": {
      "text/plain": [
       "40     -300.567734\n",
       "67     -624.927564\n",
       "130    -877.086110\n",
       "63    -2517.314607\n",
       "83     -319.337720\n",
       "98     1283.984453\n",
       "5      -147.357141\n",
       "105   -1429.382498\n",
       "44     6616.322198\n",
       "152    1027.378083\n",
       "174    -516.625736\n",
       "202    -621.748038\n",
       "24    -1896.399036\n",
       "80     -416.280993\n",
       "147     628.970293\n",
       "156    1710.286690\n",
       "198    3041.537641\n",
       "148     631.193050\n",
       "109   -4629.715031\n",
       "60    -3352.764705\n",
       "77     -126.562228\n",
       "173     449.319072\n",
       "100    -299.102394\n",
       "117    -837.194835\n",
       "200    -894.036849\n",
       "38    -1388.938869\n",
       "159     699.502398\n",
       "135    2059.077392\n",
       "160    2791.803761\n",
       "157    1417.055559\n",
       "101   -7651.399713\n",
       "69     2498.997208\n",
       "19    -1523.775917\n",
       "91      769.272573\n",
       "75    -1716.267240\n",
       "177    2185.838085\n",
       "85    -2533.348515\n",
       "95     1474.235770\n",
       "119     634.711070\n",
       "114   -4320.522875\n",
       "195   -3635.964480\n",
       "Name: price, dtype: float64"
      ]
     },
     "execution_count": 621,
     "metadata": {},
     "output_type": "execute_result"
    }
   ],
   "source": [
    "err_test=cp_test_y-pred_test\n",
    "err_test"
   ]
  },
  {
   "cell_type": "code",
   "execution_count": 622,
   "id": "2f284d5b",
   "metadata": {},
   "outputs": [
    {
     "data": {
      "text/plain": [
       "5875059.3180425465"
      ]
     },
     "execution_count": 622,
     "metadata": {},
     "output_type": "execute_result"
    }
   ],
   "source": [
    "mse=np.mean(np.square(err_test))\n",
    "mse"
   ]
  },
  {
   "cell_type": "code",
   "execution_count": 623,
   "id": "4f98e7da",
   "metadata": {},
   "outputs": [
    {
     "data": {
      "text/plain": [
       "2423.8521650551515"
      ]
     },
     "execution_count": 623,
     "metadata": {},
     "output_type": "execute_result"
    }
   ],
   "source": [
    "np.sqrt(mse)"
   ]
  },
  {
   "cell_type": "code",
   "execution_count": 624,
   "id": "83852170",
   "metadata": {},
   "outputs": [
    {
     "data": {
      "text/plain": [
       "16.203274917044688"
      ]
     },
     "execution_count": 624,
     "metadata": {},
     "output_type": "execute_result"
    }
   ],
   "source": [
    "MAPE=np.mean(np.abs(err_test*100/cp_test_y))\n",
    "MAPE"
   ]
  },
  {
   "cell_type": "code",
   "execution_count": 625,
   "id": "1c08c76a",
   "metadata": {},
   "outputs": [
    {
     "data": {
      "text/plain": [
       "83.7967250829553"
      ]
     },
     "execution_count": 625,
     "metadata": {},
     "output_type": "execute_result"
    }
   ],
   "source": [
    "ACC=100-MAPE\n",
    "ACC"
   ]
  },
  {
   "cell_type": "code",
   "execution_count": 627,
   "id": "54426476",
   "metadata": {},
   "outputs": [
    {
     "data": {
      "text/plain": [
       "(205, 14)"
      ]
     },
     "execution_count": 627,
     "metadata": {},
     "output_type": "execute_result"
    }
   ],
   "source": [
    "df_x=cp.iloc[:,0:-1]\n",
    "df_y=cp.iloc[:,-1]\n",
    "\n",
    "corr_list=[]\n",
    "for col in df_x.columns:\n",
    "    corr_list.append(df_x[col].corr(df_y))\n",
    "    \n",
    "feature_imp = pd.DataFrame()\n",
    "feature_imp['column']=df_x.columns\n",
    "feature_imp['corr']=corr_list\n",
    "feature_imp\n",
    "\n",
    "feature_imp1=feature_imp[(feature_imp['corr'] <-.3)|(feature_imp['corr']> .3)]\n",
    "l1=list(feature_imp1.column)\n",
    "l1.append('price')\n",
    "\n",
    "cp=cp.loc[:,l1]\n",
    "cp.shape"
   ]
  },
  {
   "cell_type": "code",
   "execution_count": null,
   "id": "ae32eb40",
   "metadata": {},
   "outputs": [],
   "source": []
  },
  {
   "cell_type": "code",
   "execution_count": null,
   "id": "227482c0",
   "metadata": {},
   "outputs": [],
   "source": []
  },
  {
   "cell_type": "code",
   "execution_count": null,
   "id": "ec29b3ef",
   "metadata": {},
   "outputs": [],
   "source": []
  },
  {
   "cell_type": "code",
   "execution_count": null,
   "id": "0b136855",
   "metadata": {},
   "outputs": [],
   "source": []
  },
  {
   "cell_type": "code",
   "execution_count": null,
   "id": "d7e21f94",
   "metadata": {},
   "outputs": [],
   "source": []
  },
  {
   "cell_type": "code",
   "execution_count": null,
   "id": "20a38f98",
   "metadata": {},
   "outputs": [],
   "source": []
  },
  {
   "cell_type": "code",
   "execution_count": null,
   "id": "641ea8b2",
   "metadata": {},
   "outputs": [],
   "source": []
  },
  {
   "cell_type": "code",
   "execution_count": null,
   "id": "b27c9883",
   "metadata": {},
   "outputs": [],
   "source": []
  },
  {
   "cell_type": "code",
   "execution_count": null,
   "id": "c151669f",
   "metadata": {},
   "outputs": [],
   "source": []
  },
  {
   "cell_type": "code",
   "execution_count": null,
   "id": "5ad5b8c3",
   "metadata": {},
   "outputs": [],
   "source": []
  }
 ],
 "metadata": {
  "kernelspec": {
   "display_name": "Python 3 (ipykernel)",
   "language": "python",
   "name": "python3"
  },
  "language_info": {
   "codemirror_mode": {
    "name": "ipython",
    "version": 3
   },
   "file_extension": ".py",
   "mimetype": "text/x-python",
   "name": "python",
   "nbconvert_exporter": "python",
   "pygments_lexer": "ipython3",
   "version": "3.11.5"
  }
 },
 "nbformat": 4,
 "nbformat_minor": 5
}
